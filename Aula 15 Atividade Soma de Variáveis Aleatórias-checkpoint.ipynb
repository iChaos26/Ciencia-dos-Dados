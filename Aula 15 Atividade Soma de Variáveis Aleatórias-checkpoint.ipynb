{
 "cells": [
  {
   "cell_type": "markdown",
   "metadata": {},
   "source": [
    " ___\n",
    "# Atividade: Soma de variáveis aleatórias \n",
    "___\n",
    "\n",
    "## Aula 15\n",
    "\n",
    "**Preparo Prévio:**\n",
    "1. Seção 5.2 – págs 146 a 149; págs 156 e 157 (Exemplo 5.12) e págs 158 a 162 (Exemplo 5.13): aborda propriedades de esperança e variância em soma de variáveis aleatórias (X+Y). \n",
    "\n",
    "**Hoje:**\n",
    "1. Descrever as propriedades de esperança e variância para soma de variáveis aleatórias (discretas e contínuas).\n",
    "\n",
    "\n",
    "**Próxima aula:**\n",
    "1.\tLeitura prévia necessária: Magalhães e Lima (7ª. Edição): Seção 7.3 (págs 234 a 240).\n",
    "___"
   ]
  },
  {
   "cell_type": "code",
   "execution_count": 10,
   "metadata": {
    "collapsed": true
   },
   "outputs": [],
   "source": [
    "%matplotlib inline\n",
    "\n",
    "import os\n",
    "import matplotlib.pyplot as plt\n",
    "import pandas as pd\n",
    "import numpy as np\n",
    "from scipy import stats\n"
   ]
  },
  {
   "cell_type": "markdown",
   "metadata": {
    "collapsed": true
   },
   "source": [
    "___\n",
    "\n",
    "## Soma de variáveis aleatórias\n",
    "\n",
    "Você foi designado pelo seu grupo de Acionamentos para comprar os componentes para o projeto final. \n",
    "\n",
    "Depois de cotar em diversas lojas, apurou-se que um pacote com mil peças de resistor de carbono 1/8w tem o preço distribuído como uma normal com média 21 reais e desvio padrão de 2 reais, ou seja, $X$~$N(21;4)$.\n",
    "\n",
    "Já um pacote de jumpers/fios macho-fêmea com 40 unidades de 20 cm tem o preço distribuído como uma normal com média 18,90 reais e desvio padrão de 1,50 reais, ou seja, $Y$~$N(18,90;2,25)$.\n",
    "\n",
    "Dado que você vai precisar dos componentes citados acima, se todos os grupos comprarem aleatóriamente em alguma loja, qual será a média e o desvio padrão do gasto dos grupos?\n",
    "\n",
    "No fundo, desejamos saber: Qual é $\\mu_G$ e $\\sigma_G$, onde:\n",
    "\n",
    "$$G = X + Y$$\n",
    "\n",
    "E X e Y são definidos pelos modelos citados acima."
   ]
  },
  {
   "cell_type": "code",
   "execution_count": 20,
   "metadata": {
    "collapsed": true
   },
   "outputs": [],
   "source": [
    "mu1=21\n",
    "mu2=18.90\n",
    "mu=mu1+mu2\n",
    "loc1=mu1\n",
    "loc2=mu2\n",
    "sigma1=4\n",
    "sigma2=1.50\n",
    "sigma=sigma1+sigma2\n",
    "scale1=sigma1\n",
    "scale2=sigma2\n",
    "x=stats.norm.rvs(loc1,scale1,10000)\n",
    "y=stats.norm.rvs(loc2,scale2,10000)\n",
    "\n",
    "\n",
    "\n",
    "\n",
    "\n",
    "    \n",
    "    \n"
   ]
  },
  {
   "cell_type": "code",
   "execution_count": 21,
   "metadata": {},
   "outputs": [
    {
     "data": {
      "text/plain": [
       "(array([ 0.00013764,  0.0007341 ,  0.00325757,  0.01046094,  0.02771231,\n",
       "         0.05689282,  0.07974171,  0.09304729,  0.08231106,  0.05877395,\n",
       "         0.02885934,  0.01156209,  0.00408344,  0.00110115,  0.00013764]),\n",
       " array([ 23.48688289,  25.6664198 ,  27.84595671,  30.02549362,\n",
       "         32.20503053,  34.38456744,  36.56410435,  38.74364126,\n",
       "         40.92317817,  43.10271508,  45.28225199,  47.4617889 ,\n",
       "         49.64132581,  51.82086272,  54.00039963,  56.17993654]),\n",
       " <a list of 15 Patch objects>)"
      ]
     },
     "execution_count": 21,
     "metadata": {},
     "output_type": "execute_result"
    },
    {
     "data": {
      "image/png": "[encoded data removed]",
      "text/plain": [
       "<matplotlib.figure.Figure at 0x16dbe1fcac8>"
      ]
     },
     "metadata": {},
     "output_type": "display_data"
    }
   ],
   "source": [
    "# xy=[]\n",
    "# xy(enumerate())\n",
    "G= x+y\n",
    "plt.hist(G, normed=1,bins=15)\n",
    "    "
   ]
  },
  {
   "cell_type": "code",
   "execution_count": 23,
   "metadata": {},
   "outputs": [
    {
     "name": "stdout",
     "output_type": "stream",
     "text": [
      "4.21815268684\n",
      "39.9315708136\n"
     ]
    }
   ],
   "source": [
    "\n",
    "mu,sigma=stats.norm.fit(G)\n",
    "print(sigma)\n",
    "print(mu)"
   ]
  },
  {
   "cell_type": "code",
   "execution_count": null,
   "metadata": {
    "collapsed": true
   },
   "outputs": [],
   "source": []
  }
 ],
 "metadata": {
  "anaconda-cloud": {},
  "kernelspec": {
   "display_name": "Python 3",
   "language": "python",
   "name": "python3"
  },
  "language_info": {
   "codemirror_mode": {
    "name": "ipython",
    "version": 3
   },
   "file_extension": ".py",
   "mimetype": "text/x-python",
   "name": "python",
   "nbconvert_exporter": "python",
   "pygments_lexer": "ipython3",
   "version": "3.6.1"
  }
 },
 "nbformat": 4,
 "nbformat_minor": 1
}
