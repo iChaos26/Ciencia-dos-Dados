{
 "cells": [
  {
   "cell_type": "markdown",
   "metadata": {},
   "source": [
    " ___\n",
    "# Atividade: Teorema do Limite Central \n",
    "___\n",
    "\n",
    "## Aula 16\n",
    "\n",
    "**Preparo Prévio:**\n",
    "1. Magalhães e Lima (7ª. Edição): Seção 7.3 (págs 238 a 244).\n",
    "\n",
    "**Hoje:**\n",
    "1. Compreender o Teorema do Limite Central.\n",
    "\n",
    "\n",
    "**Próxima aula:**\n",
    "1.\tLeitura prévia necessária: Magalhães e Lima (7ª. Edição): Cap. 8 (págs 259 a 273).\n",
    "___"
   ]
  },
  {
   "cell_type": "code",
   "execution_count": 2,
   "metadata": {
    "collapsed": true
   },
   "outputs": [],
   "source": [
    "%matplotlib inline\n",
    "%reset -f\n",
    "\n",
    "from __future__ import print_function\n",
    "from ipywidgets import interact, interactive, fixed, interact_manual\n",
    "import ipywidgets as widgets\n",
    "\n",
    "import matplotlib.pyplot as plt\n",
    "import pandas as pd\n",
    "import numpy as np\n",
    "from scipy import stats"
   ]
  },
  {
   "cell_type": "markdown",
   "metadata": {},
   "source": [
    "# Exemplo 1: #\n",
    "\n",
    "Um Professor de Ciência dos Dados resolve fazer uma avaliação diferente com os alunos. O aluno irá jogar uma moeda justa 1000 vezes. Cada vez que sair CARA o aluno ganha nota DEZ, cada vez que sair COROA o aluno ganha nota ZERO. Ao final calcula-se a média das notas.\n",
    "\n",
    "a) Faça uma simulação de 1000 jogadas da moeda, calcule a média e o desvio padrão da variável. Usar **stats.randint** para simular as jogadas. "
   ]
  },
  {
   "cell_type": "code",
   "execution_count": 24,
   "metadata": {
    "collapsed": true
   },
   "outputs": [],
   "source": [
    "# mi=\n",
    "# sigma= \n",
    "l=[]\n",
    "\n",
    "a=stats.randint.rvs(0,2,size=1000)\n",
    "\n",
    "df=pd.Series(a)\n",
    "\n",
    "\n"
   ]
  },
  {
   "cell_type": "markdown",
   "metadata": {},
   "source": [
    "b) Faça o **gráfico de barras** da variável. usar o **value_counts()** do Pandas para gerar esse gráfico."
   ]
  },
  {
   "cell_type": "code",
   "execution_count": 25,
   "metadata": {
    "collapsed": true
   },
   "outputs": [],
   "source": [
    "x=df.value_counts().sort_index()"
   ]
  },
  {
   "cell_type": "code",
   "execution_count": 39,
   "metadata": {},
   "outputs": [
    {
     "data": {
      "text/plain": [
       "<matplotlib.axes._subplots.AxesSubplot at 0x2ace2fbfc18>"
      ]
     },
     "execution_count": 39,
     "metadata": {},
     "output_type": "execute_result"
    },
    {
     "data": {
      "image/png": "[encoded data removed]",
      "text/plain": [
       "<matplotlib.figure.Figure at 0x2ace2fcc160>"
      ]
     },
     "metadata": {},
     "output_type": "display_data"
    }
   ],
   "source": [
    "x.plot(kind=\"bar\")\n"
   ]
  },
  {
   "cell_type": "markdown",
   "metadata": {},
   "source": [
    "Agora simule a média da sala de aula com os 120 alunos das 3 turmas.\n",
    "\n",
    "Se $\\bar{X}$ é média da sala (NÃO confundir com a média do aluno $\\mu_X$) , então:\n",
    "$$\\bar{X} = \\frac{X_1+X_2+...+X_n}{n} = \\frac{\\sum_{i=1}^n X_i}{n}$$\n",
    "\n",
    "onde n = 120 alunos.\n",
    "\n",
    "c) Faça o histograma de $\\bar{X}$. Lembre-se da aula passada."
   ]
  },
  {
   "cell_type": "code",
   "execution_count": 63,
   "metadata": {},
   "outputs": [
    {
     "data": {
      "image/png": "[encoded data removed]",
      "text/plain": [
       "<matplotlib.figure.Figure at 0x2ace3c512b0>"
      ]
     },
     "metadata": {},
     "output_type": "display_data"
    }
   ],
   "source": [
    "y=119\n",
    "\n",
    "alunos=(stats.randint.rvs(0,2,size=1000))\n",
    "\n",
    "for i in range(y):\n",
    "    alunos+=stats.randint.rvs(0,2,size=1000)\n",
    "    \n",
    "xmean=alunos\n",
    "xmean=xmean/120\n",
    "novodf=pd.Series(xmean).plot(kind='hist',normed=True)\n",
    "\n",
    "# faixa=np.arange(0,0.0083333,0.001)\n",
    "# df.plot.hist(bins=20,normed=True)"
   ]
  },
  {
   "cell_type": "markdown",
   "metadata": {},
   "source": [
    "d) Calcule a média e o desvio padrão de Y.    "
   ]
  },
  {
   "cell_type": "code",
   "execution_count": null,
   "metadata": {
    "collapsed": true
   },
   "outputs": [],
   "source": []
  },
  {
   "cell_type": "markdown",
   "metadata": {},
   "source": [
    "e) O que você pode dizer sobre a distribuição de Y? Faça o fit da normal e plote o pdf sobre o histograma."
   ]
  },
  {
   "cell_type": "code",
   "execution_count": null,
   "metadata": {
    "collapsed": true
   },
   "outputs": [],
   "source": []
  },
  {
   "cell_type": "markdown",
   "metadata": {},
   "source": [
    "# Teorema do Limite Central #\n",
    "\n",
    "Dado $X_i$ uma variável aleatória iid (independente e identicamente distribuída) de uma distribuição qualquer, tem-se que:\n",
    "\n",
    "$$\\bar{X}=\\frac{X_1+X_2+...+X_n}{n}=\\frac{\\sum_{i=1}^n X_i}{n} \\sim N\\left(\\mu_X,\\frac{\\sigma_X^2}{n}\\right)$$\n",
    "\n",
    "Quando n for suficientemente grande.\n",
    "\n",
    "Em alguns casos específicos, pode-se considerar $X_i$ com distribuições diferentes ou com certa dependência entre elas.\n"
   ]
  },
  {
   "cell_type": "code",
   "execution_count": null,
   "metadata": {
    "collapsed": true,
    "slideshow": {
     "slide_type": "notes"
    }
   },
   "outputs": [],
   "source": [
    "# %load TLC.py"
   ]
  }
 ],
 "metadata": {
  "kernelspec": {
   "display_name": "Python 3",
   "language": "python",
   "name": "python3"
  },
  "language_info": {
   "codemirror_mode": {
    "name": "ipython",
    "version": 3
   },
   "file_extension": ".py",
   "mimetype": "text/x-python",
   "name": "python",
   "nbconvert_exporter": "python",
   "pygments_lexer": "ipython3",
   "version": "3.6.1"
  }
 },
 "nbformat": 4,
 "nbformat_minor": 1
}
