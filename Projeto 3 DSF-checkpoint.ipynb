{
 "cells": [
  {
   "cell_type": "markdown",
   "metadata": {},
   "source": [
    "Projeto 3 Design de Softwares 2017"
   ]
  },
  {
   "cell_type": "markdown",
   "metadata": {},
   "source": [
    "Projeto: Usando ferramentas de Python 3, fazer uma análisa de dados pela Região de São Paulo, Brasil, acerca dos twitters comentado sobre a gestão atual da prefeitura."
   ]
  },
  {
   "cell_type": "markdown",
   "metadata": {},
   "source": [
    "Primeiro estágio: Pegar data do folium e focar o mapa de São Paulo\n",
    "doc:https://python-visualization.github.io/folium/docs-master/quickstart.html#Getting-Started"
   ]
  },
  {
   "cell_type": "code",
   "execution_count": 2,
   "metadata": {},
   "outputs": [
    {
     "name": "stdout",
     "output_type": "stream",
     "text": [
      "Requirement already satisfied: folium in c:\\users\\joony\\anaconda3\\lib\\site-packages\n",
      "Requirement already satisfied: jinja2 in c:\\users\\joony\\anaconda3\\lib\\site-packages (from folium)\n",
      "Requirement already satisfied: six in c:\\users\\joony\\anaconda3\\lib\\site-packages (from folium)\n",
      "Requirement already satisfied: requests in c:\\users\\joony\\anaconda3\\lib\\site-packages (from folium)\n",
      "Requirement already satisfied: branca in c:\\users\\joony\\anaconda3\\lib\\site-packages (from folium)\n",
      "Requirement already satisfied: MarkupSafe>=0.23 in c:\\users\\joony\\anaconda3\\lib\\site-packages (from jinja2->folium)\n"
     ]
    }
   ],
   "source": [
    "!pip install folium"
   ]
  },
  {
   "cell_type": "code",
   "execution_count": 65,
   "metadata": {},
   "outputs": [
    {
     "data": {
      "text/html": [
       "<div style=\"width:100%;\"><div style=\"position:relative;width:100%;height:0;padding-bottom:60%;\"><iframe src=\"data:text/html;charset=utf-8;base64,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\" style=\"position:absolute;width:100%;height:100%;left:0;top:0;border:none !important;\" allowfullscreen webkitallowfullscreen mozallowfullscreen></iframe></div></div>"
      ],
      "text/plain": [
       "<folium.folium.Map at 0x1f19c147208>"
      ]
     },
     "execution_count": 65,
     "metadata": {},
     "output_type": "execute_result"
    }
   ],
   "source": [
    "import folium\n",
    "sp=folium.Map(location=[-23.5475000,-46.6361100])\n",
    "zoom_start=30\n",
    "sp"
   ]
  },
  {
   "cell_type": "markdown",
   "metadata": {},
   "source": [
    "2° Passo: Pegar twitter e coordenadas geográficas :"
   ]
  },
  {
   "cell_type": "code",
   "execution_count": 10,
   "metadata": {},
   "outputs": [
    {
     "name": "stdout",
     "output_type": "stream",
     "text": [
      "Requirement already satisfied: requests_oauthlib in c:\\users\\joony\\anaconda3\\lib\\site-packages\n",
      "Requirement already satisfied: requests>=2.0.0 in c:\\users\\joony\\anaconda3\\lib\\site-packages (from requests_oauthlib)\n",
      "Requirement already satisfied: oauthlib>=0.6.2 in c:\\users\\joony\\anaconda3\\lib\\site-packages (from requests_oauthlib)\n"
     ]
    }
   ],
   "source": [
    "!pip install requests_oauthlib"
   ]
  },
  {
   "cell_type": "markdown",
   "metadata": {},
   "source": [
    "Validação do APP(twitter key):\n",
    "Em ordem : Consumer Key (API Key),Consumer Secret (API Secret),Access Token,Access Token Secret\n"
   ]
  },
  {
   "cell_type": "code",
   "execution_count": 16,
   "metadata": {},
   "outputs": [],
   "source": [
    "from requests_oauthlib import OAuth1Session\n",
    "\n",
    "url = 'https://api.twitter.com/1.1/account/verify_credentials.json'\n",
    "twitter = OAuth1Session('NUcpDnjtcCRiXoZ6KFiWuAZwj' , \n",
    "                     client_secret='wbWrYa2Xdx2XSoboVsDF7z72ER3o2mkIKQY36xgXrRkcLAqbVw',\n",
    "                     resource_owner_key='310554852-AZTPjV6VCkRHQiwT9MAibQ76jKIqoPnAKan0mq6i', \n",
    "                     resource_owner_secret='sgcpF4JW3j8zQSfxEPbrjwxftf1RH7nXJMFMMQpc9Iq00')\n",
    "\n",
    "\n",
    "twitter.get(url).json()"
   ]
  },
  {
   "cell_type": "markdown",
   "metadata": {},
   "source": [
    "Pegar twitter sobre a gestão e suas coordenadas:"
   ]
  },
  {
   "cell_type": "code",
   "execution_count": 136,
   "metadata": {},
   "outputs": [],
   "source": [
    "dic=twitter.get(\"https://api.twitter.com/1.1/search/tweets.json?q=prefeitura&count=100&-23.5475000,-46.6361100\").json()\n"
   ]
  },
  {
   "cell_type": "code",
   "execution_count": 137,
   "metadata": {},
   "outputs": [
    {
     "data": {
      "text/plain": [
       "100"
      ]
     },
     "execution_count": 137,
     "metadata": {},
     "output_type": "execute_result"
    }
   ],
   "source": [
    "dic['search_metadata']['count']"
   ]
  },
  {
   "cell_type": "code",
   "execution_count": 138,
   "metadata": {},
   "outputs": [
    {
     "data": {
      "text/plain": [
       "'Adoramos! Obrigada pela lembrança, Prefeitura De Balneário Camboriú. &lt;3 https://t.co/fZrqgQDrRp'"
      ]
     },
     "execution_count": 138,
     "metadata": {},
     "output_type": "execute_result"
    }
   ],
   "source": [
    "dic[\"statuses\"][1][\"text\"]"
   ]
  },
  {
   "cell_type": "code",
   "execution_count": 139,
   "metadata": {},
   "outputs": [
    {
     "name": "stdout",
     "output_type": "stream",
     "text": [
      "- Informo que o governador @geraldoalckmin autorizou a Fazenda do Estado a receber uma área de 8,2 mil metros quadrados da Prefeitura de Bauru\n",
      "- Adoramos! Obrigada pela lembrança, Prefeitura De Balneário Camboriú. &lt;3 https://t.co/fZrqgQDrRp\n",
      "- @mtst_ Toda atenção com o sub da prefeitura de Pinheiros...adora aparecer para o prefake.\n",
      "- @Mi_Santos3 Kkkkkkkkkkkkkkk na da prefeitura eu coloquei 23/11/2018 tô no pique já\n",
      "- RT @EHolandaJr: Você, meu amigo, é o convidado especial de mais esta programação da Prefeitura, que irá oferecer diversos serviços como ava…\n",
      "- Abrasel no Amapá faz parceria com prefeitura para fortalecimento da gastronomia local https://t.co/rrmAIsDtX2… https://t.co/BfxlMLoepk\n",
      "- @portaldaband ** Eu lamento senhor prefeito, a sua única passagem foi pela prefeitura de são paulo, e por total des… https://t.co/jLl6A5dQV2\n",
      "- A SMSUrb) por meio do @DMLU_POA, manifesta profundo pesar pelo falecimento do gari Paulo de Jesus Martins Paiva, fu… https://t.co/Eon4kWyfOX\n",
      "- @LeiSecaRJ PREFEITURA DEMOROU MAIS DE UM ANO PARA ACORDAR QUE 2 CONTROLADORES DE TRÁFEGO ACABARIAM COM OS ENGARRAFA… https://t.co/dDSFBgyC4c\n",
      "- Proposta da Prefeitura que modifica aspectos da educação infantil é questionada por sindicato https://t.co/PFtBbtFIh8\n",
      "- @GauchaZH @Carolina_Bahia E sobre o Tribunal de Contas que avaliou as contas da  Prefeitura de Porto Alegre e e con… https://t.co/iET1xbzFhJ\n",
      "- estou prestes a mostrar o video do cu pra fora pro pessoal da prefeitura. nao sou obrigada a ser frustrada sozinha\n",
      "- Você, meu amigo, é o convidado especial de mais esta programação da Prefeitura, que irá oferecer diversos serviços… https://t.co/ZQ7uqdIIi6\n",
      "- Natal de Luz e Sonhos.\n",
      "\n",
      "Prefeitura e Ascipam se unem para trazer clima natalino para a cidade. Papai Noel chega... https://t.co/RLKgLXKeox\n",
      "- Inscrições para concorrer a 289 vagas na Prefeitura de Osasco terminam amanhã - https://t.co/6KTCLrqc46 https://t.co/yIYOhXFbU9\n",
      "- RT @PrefdeSobral: Negritude e Protagonismo | Prefeitura de Sobral lança o projeto Quebrando o Tabu https://t.co/5gR2Dq4m0j https://t.co/ogx…\n",
      "- Gratificações na Prefeitura da Capital tem irregularidades, aponta TCE-PB https://t.co/Y6KdME2oJ9\n",
      "- Centro Público de Atendimento aos Trabalhadores de Joinville oferece vagas no programa Jovem Aprendiz.… https://t.co/KRljTx4p69\n",
      "- fui muito jornalista e adulta hj fui ate uma cidade que eu nao conhecia na prefeitura entrevistar alguem q eu n tin… https://t.co/QUjzuO84OJ\n",
      "- Prefeitura ingressa com mandado de segurança para reabertura do acesso à Água do Lagarto Verde - https://t.co/KOzM2QuOy4\n",
      "- RT @alexprocesso: Tribunal de Contas de SP acusa prefeitura de dificultar acesso a informações e reclama de falta de transparência de #Dóri…\n",
      "- Concurso Prefeitura de Caruaru PE: 75 vagas para níveis médio e superior https://t.co/5IRjxvwJtk #concursos\n",
      "- Prefeitura de Pé de Serra-BA abre concurso com 62 vagas para todos os níveis https://t.co/Z7wyfXzl4D #concursos\n",
      "- Plantão Lemense™ https://t.co/Iv4hyavXs9\n",
      "- https://t.co/8K0hvuCK7V\n",
      "- https://t.co/8a0jm6FsnA\n",
      "- https://t.co/rP2HiKvmgY\n",
      "- https://t.co/7spg4FJOqc\n",
      "- Nos 53 anos da Praça da Xícara, Prefeitura anuncia reforma do calçamento externo https://t.co/wZ5gQV1fhD\n",
      "- Vereador Mazinho dos Anjos fala sobre a indicação 7503/2017 que fez à PMV para a reforma do píer do bairro Jesus de… https://t.co/gfyauai7GS\n",
      "- BH: Prefeitura lança o Diagnóstico do Idoso, uma importante ferramenta na elaboração de novas possibilidades para a… https://t.co/QeIBDbGti1\n",
      "- I'm at Penha - @prefeitura_rio in Rio de Janeiro, RJ https://t.co/lm38TrOPxk\n",
      "- RT @PMMacapa: Prefeitura de Macapá apoia programação do Encontro dos Tambores.\n",
      "https://t.co/NuV6i7SG7j https://t.co/N9PpfsF45J\n",
      "- Prefeitos protestam na Campanha Não deixem os Municípios Afundarem | Prefeitura de Brotas de Macaúbas https://t.co/NdICy1Bc2F\n",
      "- Prefeitura realiza mutirão para acompanhamento do Bolsa Família neste sábado. Quem não comparecer pode ter o... https://t.co/s6ds4pa3l8\n",
      "- Você precisa solicitar um serviço da prefeitura? Dique para o 156!!! https://t.co/ic70zLuk1S\n",
      "- Boa notícia! Prefeitura de Itapevi inicia reforma de 25 escolas municipais de Itapevi https://t.co/Snr1jwJd8U https://t.co/wQtsKHfZIL\n",
      "- Sai mais cedo pra ir deixar meu contrato na prefeitura , e tenho quase certeza que não vai ter ngm la\n",
      "- @AntonioAraujo_1 @EHolandaJr @PrefeituraSL A propósito migos, até hoje espero a prefeitura voltar para terminar o s… https://t.co/gQUS7O5GcB\n",
      "- Pagamento em dia, 13º antecipado, mesmo nesse cenário “devastador” em que muitos municípios e Estados estão “quebra… https://t.co/VralTiyf3T\n",
      "- Programação de Natal da Prefeitura de Curitiba vai trazer gastronomia latino-americana   https://t.co/NwluXlNbnn\n",
      "- I'm at Tijuquinha - @prefeitura_rio in Rio de Janeiro https://t.co/Zpcs9SSk8p\n",
      "- @LeiSecaRJ  EU ESTAVA A MAIS DE 6 MESES ALERTANDO PREFEITURA PARA QUE COLOCASSEM ORIENTADORES D TRÂNSITO LIBERANDO… https://t.co/SwRAEGfwsB\n",
      "- Prefeitura Monteiro promove 1º passeio ciclístico para crianças https://t.co/A271Mt6umI\n",
      "- Prefeitura recebe certificação de Tecnologia Social por projeto de banco comunitário https://t.co/ldDxV7bco5\n",
      "- Entre as próximas ações da campanha estão a realização de uma caminhada de conscientização e mobilização no... https://t.co/8kEcPgnNYr\n",
      "- RT @MichelArbache: Acho (acho!) q começou a cair a ficha de João Dólar q foi péssimo negócio ter se aventurado na política. Era mais rentáv…\n",
      "- Prefeitura lança cartilha sobre regulamentação da parceria com as Organizações da Sociedade Civil - Prefeitura... https://t.co/bStu78UsWs\n",
      "- Prefeitura lança o Diagnóstico do Idoso, uma importante ferramenta na elaboração de novas possibilidades para a pop… https://t.co/PKPA4OLBvi\n",
      "- JÁ ERA EM TEMPO. Procon investiga distribuidoras por preço de combustível -  https://t.co/IbeI93QwcC via @Prefeitura_POA\n",
      "- Fui na prefeitura resolver um problema pra minha mãe, passei no shopping pra comprar UMA camiseta cavada de NO MÁXI… https://t.co/5JETMz7nAl\n",
      "- RT @Curitiba_PMC: OLHA AÍ O PALÁCIO AVENIDA, GENTE! ❤❤\n",
      "Hoje acontece a abertura oficial do Natal de Curitiba! Para você que ainda não viu a…\n",
      "- Joãozinho Rocha alerta população para denunciar pessoas que deixam lixos e entulhos na via pública após a passagem.… https://t.co/kkqtDcmmg7\n",
      "- As nomeações para os profissionais que lecionarão nos Anos Iniciais e na Educação Infantil são as mais urgentes, já… https://t.co/W3OeU9KTDe\n",
      "- ADMINISTRAÇÃO\n",
      "Sipat em Ivoti: a responsabilidade do gestor na prevenção do Acidente de Trabalho\n",
      "\n",
      "Ivoti – A... https://t.co/aPVGbxSefu\n",
      "- Desde julho deste ano, a Smed nomeou 172 professores e 51 monitores de concursos realizados em 2013 e 2014.\n",
      "- Segundo o governo municipal, ainda não há previsão de data para o anúncio do nome do novo secretário.... https://t.co/za0z6gz1g8\n",
      "- Confira o Post\n",
      "Portal Hortolândia - Prefeitura oferece acesso gratuito a wi-fi para visitantes e servidores https://t.co/wGFN7Rblaj\n",
      "- RT @Sandro3sss: a prefeitura podia dar wifi grátis no lugar de camisinha né, nóis nem transa mesmo\n",
      "- Na Hemeroteca, mas infelizmente a Prefeitura de Santos embalou há anos as edições do jornal @atribunasantos de 1928… https://t.co/k8pNWijOgc\n",
      "- Todos são para carga horária de 20 horas semanais nas escolas municipais de Ensino Fundamental e Educação Infantil.… https://t.co/lR8FV5iKUp\n",
      "- Acabei de ver a apresentação de alunos do 9o ano do Maria Isabel (colégio da prefeitura de Macaé) na EXPOCIT e eles arrasaram tanto!\n",
      "- Os profissionais a serem nomeados irão substituir cargos vagos por aposentadorias, exonerações e falecimentos ocorr… https://t.co/TRfLxaOJNc\n",
      "- A secretaria solicitou posse imediata e os nomeados deverão entrar em exercício ainda no ano letivo de 2017. As nom… https://t.co/hSAyKGKKk2\n",
      "- Prefeitura de Várzea Alegre vai inaugurar matadouro público do município https://t.co/NjInEdfiVp\n",
      "- Serão chamados 26 professores para atuação nos Anos Iniciais, 15 para a Educação Infantil, 11 para a disciplina de… https://t.co/KREvJjRET6\n",
      "- Prefeitura nomeia 58 professores e 11 monitores aprovados em concursos públicos para a rede municipal de ensino.… https://t.co/mYfutYXBXO\n",
      "- Campus Estância conclui curso de robótica para alunos da rede pública. Ano que vem serão abertas novas turmas e ofe… https://t.co/6bFjeKicj3\n",
      "- Aí vc começa a trabalhar na prefeitura de Toledo: \"suas definições de incompetência foram atualizadas\"\n",
      "- Prefeitura promove curso para cuidadora escolar https://t.co/GNpJgzNhCm https://t.co/sVGmyeUny1\n",
      "- RT @MichelArbache: Acho (acho!) q começou a cair a ficha de João Dólar q foi péssimo negócio ter se aventurado na política. Era mais rentáv…\n",
      "- Diante da demora, Prefeitura de Palmas garante que está organizado a decoração natalina https://t.co/12sJRoEqNs https://t.co/KIf74zLJOl\n",
      "- Prefeitura de Petrolina faz ação do Novembro Azul com pessoas em situação de rua https://t.co/mE9a194FcE https://t.co/agUrqjXVz5\n",
      "- Vereador Lela - Votação das contas da Prefeitura na gestão 2015 - 07.11.2017: https://t.co/Ob66sE8y61 via @YouTube\n",
      "- RT @ManoelRocha4: @Ro_Moller @JoaoBANatal gente, nem entro nessa - Roseana em 2002 e Russomano para as eleições daqui para a prefeitura de…\n",
      "- I'm at Prefeitura de Três Passos https://t.co/1MYW2eti9Y\n",
      "- “Fiz um contrato com a Prefeitura Municipal de Petrolina ou com uma quadrilha organizada”,… https://t.co/KmFi27DJeU https://t.co/vdqfWl5Gze\n",
      "- @Ro_Moller @JoaoBANatal gente, nem entro nessa - Roseana em 2002 e Russomano para as eleições daqui para a prefeitu… https://t.co/czvrPMbiPu\n",
      "- RT @PrefeituradeGyn: Mais de 3.700 pneus são recolhidos na região Noroeste pela Prefeitura de Goiânia https://t.co/mHVRirC6iw\n",
      "- Concurso Prefeitura de Natal RN (Saúde): Autorizadas 1.647 vagas para nível médio e superior! https://t.co/AMKMPO4VLs\n",
      "- Prefeitura participa em São Paulo de Encontro de Negócios sobre o São João de São Luís 2018 -… https://t.co/RSS6ufBIRx\n",
      "- Concurso Prefeitura de Caruaru-PE: 75 vagas para níveis médio e superior: A Prefeitura de… https://t.co/z3IZvIUG5S\n",
      "- Projeto continua cancelado e Prefeitura faz jogo de empurra com ONG - https://t.co/4ArpxBxNhV\n",
      "- PREFEITURA PROMOVE A 1ª CAVALGADA DOS CONFRADES DE SANTO ANTÔNIO\n",
      "A Prefeitura de Jaguariúna por meio da Secretaria… https://t.co/1DaP8Ghdf9\n",
      "- Programação de Natal da Prefeitura de Curitiba vai trazer gastronomia latino-americana   https://t.co/7HABeELQDx\n",
      "- Prefeitura de @CampoBomOficial cederá ginásio para que comunidade acompanhe a final da Copa Libertadores entre… https://t.co/UNbxPtiQ28\n",
      "- Prefeitura de Marau adere ao turno único https://t.co/uKd3cRPOIX https://t.co/Da1ein2fGj\n",
      "- @voandobaixo Mas pq deve ser feito pelo estado? Se der lucro, iniciativa privada vai querer, se dá prejuizo, pq pre… https://t.co/vuNepXiaNI\n",
      "- Prefeitura de Caruaru lança site com atrativos turísticos e históricos da cidade https://t.co/zvNVuuQYpL #Caruaru https://t.co/dCAXGC44RY\n",
      "- RT @MultiRio: O Diário Oficial, da @Prefeitura_Rio, destaca o lançamento da série Próxima Página. Você é nosso convidado! A partir das 20h,…\n",
      "- Minha mãe me fez andar da prefeitura até em casa com frio,fome e sozinha,ui\n",
      "- RT @PrefMossoro: 📈📊 A Prefeitura de Mossoró participa, em Fortaleza, do I Fórum Banco do Nordeste G20 +20 de… https://t.co/Xlk6GqRPfD\n",
      "- RT @PrefMossoro: 🏘🏡  A Prefeitura de Mossoró e a Caixa Econômica Federal realizarão na próxima segunda-feira, 27,… https://t.co/c04kLqXCvm\n",
      "- RT @PrefMossoro: A Prefeitura de Mossoró, através da Secretaria Executiva de Mobilidade Urbana, Trânsito e… https://t.co/e8KIXau3Jd\n",
      "- Negritude e Protagonismo | Prefeitura de Sobral lança o projeto Quebrando o Tabu https://t.co/5gR2Dq4m0j https://t.co/ogxDEQQ4Te\n",
      "- RT @PrefMossoro: 📺📱💻  Vem aí o programa Prefeitura em Ação. Mais um canal de comunicação entre a Prefeitura e a… https://t.co/lH8EDCVpJm\n",
      "- RT @Rede45: Mais iluminação e mais segurança em Pelotas. A prefeita de Pelotas, @paulapelotas, fala sobre projetos para modernizar a ilumin…\n",
      "- 0 Vagas Processo Seletivo Prefeitura de Itapeva - SP, destinado à contratação e formação de cadastro de reserva... https://t.co/GqmbQ1bwrq\n",
      "- vantagens do atendimento da prefeitura de São Paulo: decorar os números de RG e CPF pois é necessário repetir inúme… https://t.co/38KldIWVUP\n",
      "- 62 Vagas, mais cadastro de reserva, no Concurso Prefeitura de Pé de Serra, na Bahia, para profissionais de níveis... https://t.co/NxeunIYXAP\n"
     ]
    }
   ],
   "source": [
    "texto=[]\n",
    "for tw in dic[\"statuses\"]:\n",
    "    print('- '+tw['text'])"
   ]
  },
  {
   "cell_type": "code",
   "execution_count": 140,
   "metadata": {},
   "outputs": [
    {
     "data": {
      "text/plain": [
       "0                                                  None\n",
       "1                                                  None\n",
       "2                                                  None\n",
       "3                                                  None\n",
       "4                                                  None\n",
       "5                                                  None\n",
       "6                                                  None\n",
       "7                                                  None\n",
       "8                                                  None\n",
       "9                                                  None\n",
       "10                                                 None\n",
       "11                                                 None\n",
       "12                                                 None\n",
       "13                                                 None\n",
       "14                                                 None\n",
       "15                                                 None\n",
       "16                                                 None\n",
       "17                                                 None\n",
       "18                                                 None\n",
       "19                                                 None\n",
       "20                                                 None\n",
       "21                                                 None\n",
       "22                                                 None\n",
       "23                                                 None\n",
       "24    {'type': 'Point', 'coordinates': [-22.17166801...\n",
       "25                                                 None\n",
       "26    {'type': 'Point', 'coordinates': [-22.1817669,...\n",
       "27    {'type': 'Point', 'coordinates': [-22.1817669,...\n",
       "28                                                 None\n",
       "29                                                 None\n",
       "                            ...                        \n",
       "70                                                 None\n",
       "71                                                 None\n",
       "72                                                 None\n",
       "73                                                 None\n",
       "74                                                 None\n",
       "75    {'type': 'Point', 'coordinates': [-27.45668017...\n",
       "76                                                 None\n",
       "77                                                 None\n",
       "78                                                 None\n",
       "79                                                 None\n",
       "80                                                 None\n",
       "81                                                 None\n",
       "82                                                 None\n",
       "83                                                 None\n",
       "84                                                 None\n",
       "85                                                 None\n",
       "86                                                 None\n",
       "87                                                 None\n",
       "88                                                 None\n",
       "89                                                 None\n",
       "90                                                 None\n",
       "91                                                 None\n",
       "92                                                 None\n",
       "93                                                 None\n",
       "94                                                 None\n",
       "95                                                 None\n",
       "96                                                 None\n",
       "97                                                 None\n",
       "98                                                 None\n",
       "99                                                 None\n",
       "Name: geo, Length: 100, dtype: object"
      ]
     },
     "execution_count": 140,
     "metadata": {},
     "output_type": "execute_result"
    }
   ],
   "source": [
    "import pandas as pd\n",
    "\n",
    "text=pd.DataFrame(dic[\"statuses\"])\n",
    "text[\"geo\"]"
   ]
  },
  {
   "cell_type": "code",
   "execution_count": null,
   "metadata": {
    "collapsed": true
   },
   "outputs": [],
   "source": []
  },
  {
   "cell_type": "markdown",
   "metadata": {},
   "source": [
    "Printando as mensagens no folium via tool tip:"
   ]
  },
  {
   "cell_type": "code",
   "execution_count": 66,
   "metadata": {},
   "outputs": [
    {
     "ename": "TypeError",
     "evalue": "__init__() got an unexpected keyword argument 'tooltip'",
     "output_type": "error",
     "traceback": [
      "\u001b[1;31m---------------------------------------------------------------------------\u001b[0m",
      "\u001b[1;31mTypeError\u001b[0m                                 Traceback (most recent call last)",
      "\u001b[1;32m<ipython-input-66-9ec64237222d>\u001b[0m in \u001b[0;36m<module>\u001b[1;34m()\u001b[0m\n\u001b[0;32m      1\u001b[0m \u001b[0mtooltip\u001b[0m \u001b[1;33m=\u001b[0m \u001b[1;34m'Click me!'\u001b[0m\u001b[1;33m\u001b[0m\u001b[0m\n\u001b[1;32m----> 2\u001b[1;33m \u001b[0mfolium\u001b[0m\u001b[1;33m.\u001b[0m\u001b[0mMarker\u001b[0m\u001b[1;33m(\u001b[0m\u001b[1;33m[\u001b[0m\u001b[1;33m-\u001b[0m\u001b[1;36m23.5984715\u001b[0m\u001b[1;33m,\u001b[0m\u001b[1;33m-\u001b[0m\u001b[1;36m46.676802215\u001b[0m\u001b[1;33m]\u001b[0m\u001b[1;33m,\u001b[0m \u001b[0mpopup\u001b[0m\u001b[1;33m=\u001b[0m\u001b[1;34m'teste1'\u001b[0m\u001b[1;33m,\u001b[0m \u001b[0mtooltip\u001b[0m\u001b[1;33m=\u001b[0m\u001b[0mtooltip\u001b[0m\u001b[1;33m)\u001b[0m\u001b[1;33m.\u001b[0m\u001b[0madd_to\u001b[0m\u001b[1;33m(\u001b[0m\u001b[0msp\u001b[0m\u001b[1;33m)\u001b[0m\u001b[1;33m\u001b[0m\u001b[0m\n\u001b[0m\u001b[0;32m      3\u001b[0m \u001b[1;31m# folium.Marker([45.3311, -121.7113], popup='teste2', tooltip=tooltip).add_to(m)\u001b[0m\u001b[1;33m\u001b[0m\u001b[1;33m\u001b[0m\u001b[0m\n\u001b[0;32m      4\u001b[0m \u001b[0msp\u001b[0m\u001b[1;33m\u001b[0m\u001b[0m\n",
      "\u001b[1;31mTypeError\u001b[0m: __init__() got an unexpected keyword argument 'tooltip'"
     ]
    }
   ],
   "source": [
    "tooltip = 'Click me!'\n",
    "folium.Marker([-23.5984715,-46.676802215], popup='teste1', tooltip=tooltip).add_to(sp)\n",
    "# folium.Marker([45.3311, -121.7113], popup='teste2', tooltip=tooltip).add_to(m)\n",
    "sp"
   ]
  },
  {
   "cell_type": "code",
   "execution_count": 75,
   "metadata": {},
   "outputs": [
    {
     "data": {
      "text/html": [
       "<div style=\"width:100%;\"><div style=\"position:relative;width:100%;height:0;padding-bottom:60%;\"><iframe src=\"data:text/html;charset=utf-8;base64,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\" style=\"position:absolute;width:100%;height:100%;left:0;top:0;border:none !important;\" allowfullscreen webkitallowfullscreen mozallowfullscreen></iframe></div></div>"
      ],
      "text/plain": [
       "<folium.folium.Map at 0x1f19c1d64a8>"
      ]
     },
     "execution_count": 75,
     "metadata": {},
     "output_type": "execute_result"
    }
   ],
   "source": [
    "import folium\n",
    "\n",
    "sp = folium.Map(\n",
    "    location=[-23.5984715,-46.67680221],\n",
    "    zoom_start=30,\n",
    "    tiles='Stamen Terrain'\n",
    ")\n",
    "\n",
    "folium.Marker(\n",
    "    location=[-23.5984715,-46.67680221],\n",
    "    popup='Insper',\n",
    "    icon=folium.Icon(icon='cloud')\n",
    ").add_to(sp)\n",
    "\n",
    "folium.Marker(\n",
    "    location=[-23.5984976,-46.677367921],\n",
    "    popup='Quata',\n",
    "    icon=folium.Icon(color='green')\n",
    ").add_to(sp)\n",
    "\n",
    "# folium.Marker(\n",
    "#     location=[45.3300, -121.6823],\n",
    "#     popup='Some Other Location',\n",
    "#     icon=folium.Icon(color='red', icon='info-sign')\n",
    "# ).add_to(m)\n",
    "\n",
    "\n",
    "sp"
   ]
  },
  {
   "cell_type": "code",
   "execution_count": 76,
   "metadata": {},
   "outputs": [
    {
     "ename": "SyntaxError",
     "evalue": "invalid syntax (<ipython-input-76-849eba6be5b4>, line 2)",
     "output_type": "error",
     "traceback": [
      "\u001b[1;36m  File \u001b[1;32m\"<ipython-input-76-849eba6be5b4>\"\u001b[1;36m, line \u001b[1;32m2\u001b[0m\n\u001b[1;33m    self.inserir=\u001b[0m\n\u001b[1;37m                 ^\u001b[0m\n\u001b[1;31mSyntaxError\u001b[0m\u001b[1;31m:\u001b[0m invalid syntax\n"
     ]
    }
   ],
   "source": [
    "def inserir(self,coluna):\n",
    "    self.inserir=\n",
    "    \n",
    "    for i in range (len(coluna)):\n",
    "        folium.Marker(\n",
    "            location=[-23.5984715,-46.67680221],\n",
    "            popup='Insper',\n",
    "            icon=folium.Icon(icon='cloud')\n",
    "        ).add_to(sp)\n",
    "        "
   ]
  },
  {
   "cell_type": "code",
   "execution_count": null,
   "metadata": {
    "collapsed": true
   },
   "outputs": [],
   "source": []
  }
 ],
 "metadata": {
  "kernelspec": {
   "display_name": "Python 3",
   "language": "python",
   "name": "python3"
  },
  "language_info": {
   "codemirror_mode": {
    "name": "ipython",
    "version": 3
   },
   "file_extension": ".py",
   "mimetype": "text/x-python",
   "name": "python",
   "nbconvert_exporter": "python",
   "pygments_lexer": "ipython3",
   "version": "3.6.1"
  }
 },
 "nbformat": 4,
 "nbformat_minor": 2
}
