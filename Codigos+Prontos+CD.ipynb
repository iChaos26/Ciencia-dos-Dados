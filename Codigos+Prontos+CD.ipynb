{
 "cells": [
  {
   "cell_type": "markdown",
   "metadata": {},
   "source": [
    "Prova Final:"
   ]
  },
  {
   "cell_type": "code",
   "execution_count": 1,
   "metadata": {
    "collapsed": true
   },
   "outputs": [],
   "source": [
    "%matplotlib inline\n",
    "import pandas as pd\n",
    "import numpy as np\n",
    "from scipy import stats\n",
    "import statsmodels.api as sm\n",
    "import matplotlib.pyplot as plt"
   ]
  },
  {
   "cell_type": "markdown",
   "metadata": {},
   "source": [
    "Resumo de como montar teste de hipoteses pra casos:\n",
    "- Teste Z: Normal\n",
    "- Teste T: variancia x desconhecido\n",
    "- Bootstrapping : nada conhecido\n",
    "- Regressao simples, multipla e OLS"
   ]
  },
  {
   "cell_type": "markdown",
   "metadata": {},
   "source": [
    "TH em Teste Z-> Definir se e uni ou bi caudal:"
   ]
  },
  {
   "cell_type": "code",
   "execution_count": 4,
   "metadata": {
    "collapsed": true
   },
   "outputs": [],
   "source": [
    "#exemplo:\n",
    "X = [91.6, 88.75, 90.8, 89.95, 91.3]\n",
    "μx = 90 #hipotese, acerca de ser rejeitado ou nao\n",
    "σx = 3 #desvpad amostral\n",
    "n = len(X)#len(X)se for uma lista\n",
    "xb = np.mean(X) #np.mean(X) se for uma lista\n",
    "σxb = σx/n**(0.5)#desvpad da media\n",
    "α = 0.05"
   ]
  },
  {
   "cell_type": "markdown",
   "metadata": {},
   "source": [
    "Fazendo pdf para interpretar:"
   ]
  },
  {
   "cell_type": "code",
   "execution_count": 5,
   "metadata": {
    "collapsed": false
   },
   "outputs": [
    {
     "name": "stdout",
     "output_type": "stream",
     "text": [
      "valor-p = 0.7205147871362609\n",
      "\n",
      "xcrit1 = 87.37043237827025\n",
      "xcrit2 = 92.62956762172975\n"
     ]
    },
    {
     "data": {
      "image/png": "[encoded data removed]",
      "text/plain": [
       "<matplotlib.figure.Figure at 0x21cc5c04208>"
      ]
     },
     "metadata": {},
     "output_type": "display_data"
    }
   ],
   "source": [
    "valor_p = (1-stats.norm.cdf(xb, loc=μx, scale=σxb))*2 # vezes 2 se for bicaudal, area de rejeição H0\n",
    "print(\"valor-p = {0}\\n\".format(valor_p))\n",
    "\n",
    "xcrit1 = stats.norm.ppf(α/2, loc=μx, scale=σxb)#esquerda\n",
    "xcrit2 = stats.norm.ppf(1-α/2, loc=μx, scale=σxb)#direita\n",
    "\n",
    "#pdf de Xb\n",
    "x = np.arange(stats.norm.ppf(0.001, loc=μx, scale=σxb), stats.norm.ppf(0.999, loc=μx, scale=σxb), 0.01)\n",
    "plt.plot(x, stats.norm.pdf(x, loc=μx, scale=σxb));\n",
    "\n",
    "#RC1 - à esquerda\n",
    "x = np.arange(stats.norm.ppf(0.001, loc=μx, scale=σxb), xcrit1, 0.01)\n",
    "plt.fill_between(x, stats.norm.pdf(x, loc=μx, scale=σxb), color='red');\n",
    "#RC2 - à direita\n",
    "x = np.arange(xcrit2, stats.norm.ppf(0.999, loc=μx, scale=σxb), 0.01)\n",
    "plt.fill_between(x, stats.norm.pdf(x, loc=μx, scale=σxb), color='red');\n",
    "\n",
    "print(\"xcrit1 = {0}\".format(xcrit1))\n",
    "print(\"xcrit2 = {0}\".format(xcrit2))"
   ]
  },
  {
   "cell_type": "markdown",
   "metadata": {},
   "source": [
    "Para unicaudal:direita ou esquerda"
   ]
  },
  {
   "cell_type": "code",
   "execution_count": 10,
   "metadata": {
    "collapsed": true
   },
   "outputs": [],
   "source": [
    "X = [553, 552, 567, 579, 550, 541, 537, 553, 552, 546, 538, 553, 581, 539, 529]\n",
    "\n",
    "μx = 540\n",
    "σx = 20\n",
    "n = len(X)\n",
    "xb = np.mean(X)\n",
    "α = 0.05\n",
    "\n",
    "σxb = σx/n**(0.5)"
   ]
  },
  {
   "cell_type": "code",
   "execution_count": 8,
   "metadata": {
    "collapsed": false
   },
   "outputs": [
    {
     "name": "stdout",
     "output_type": "stream",
     "text": [
      "xcrit = 548.4939876055092\n"
     ]
    }
   ],
   "source": [
    "xcrit1 = stats.norm.ppf(1-α, loc=μx, scale=σxb)# direita\n",
    "xcrit2 = stats.norm.ppf(α, loc=μx, scale=σxb)#esquerda\n",
    "print(\"xcrit = {0}\".format(xcrit1))"
   ]
  },
  {
   "cell_type": "markdown",
   "metadata": {},
   "source": [
    "Valor p (apenas uma area):"
   ]
  },
  {
   "cell_type": "code",
   "execution_count": 9,
   "metadata": {
    "collapsed": false
   },
   "outputs": [
    {
     "name": "stdout",
     "output_type": "stream",
     "text": [
      "valor-p = 0.014092901073953445\n"
     ]
    }
   ],
   "source": [
    "valor_p = (1-stats.norm.cdf(xb, loc=μx, scale=σxb))\n",
    "print(\"valor-p = {0}\".format(valor_p))"
   ]
  },
  {
   "cell_type": "markdown",
   "metadata": {},
   "source": [
    "TH em Teste T-Student (desvpad desconhecido):Unicaudal, Bicaudal"
   ]
  },
  {
   "cell_type": "markdown",
   "metadata": {},
   "source": [
    "Estimando S:"
   ]
  },
  {
   "cell_type": "code",
   "execution_count": 11,
   "metadata": {
    "collapsed": false
   },
   "outputs": [
    {
     "ename": "NameError",
     "evalue": "name 'lista' is not defined",
     "output_type": "error",
     "traceback": [
      "\u001b[0;31m---------------------------------------------------------------------------\u001b[0m",
      "\u001b[0;31mNameError\u001b[0m                                 Traceback (most recent call last)",
      "\u001b[0;32m<ipython-input-11-2c994089fd4a>\u001b[0m in \u001b[0;36m<module>\u001b[0;34m()\u001b[0m\n\u001b[0;32m----> 1\u001b[0;31m \u001b[0ms\u001b[0m \u001b[1;33m=\u001b[0m \u001b[0mnp\u001b[0m\u001b[1;33m.\u001b[0m\u001b[0mstd\u001b[0m\u001b[1;33m(\u001b[0m\u001b[0mlista\u001b[0m\u001b[1;33m,\u001b[0m \u001b[0mddof\u001b[0m\u001b[1;33m=\u001b[0m\u001b[1;36m1\u001b[0m\u001b[1;33m)\u001b[0m \u001b[1;31m#estimado\u001b[0m\u001b[1;33m\u001b[0m\u001b[0m\n\u001b[0m",
      "\u001b[0;31mNameError\u001b[0m: name 'lista' is not defined"
     ]
    }
   ],
   "source": [
    "s = np.std(lista, ddof=1) #estimado"
   ]
  },
  {
   "cell_type": "markdown",
   "metadata": {},
   "source": [
    "Estimando T:"
   ]
  },
  {
   "cell_type": "code",
   "execution_count": null,
   "metadata": {
    "collapsed": true
   },
   "outputs": [],
   "source": [
    "t0 = (x_ - μ0)/(s/sqrt(n)) # montando a distribuição"
   ]
  },
  {
   "cell_type": "markdown",
   "metadata": {},
   "source": [
    "Unicaudal : Tcrit esquerdo e Tcrit direito "
   ]
  },
  {
   "cell_type": "code",
   "execution_count": null,
   "metadata": {
    "collapsed": true
   },
   "outputs": [],
   "source": [
    "#t critico 1 e 2 para unicaudal\n",
    "α = 0.05\n",
    "t2=stats.t.ppf(0.95,  df=14)#unicaudal para direita\n",
    "stats.t.ppf(0.05,  df=14)#unicaudal para esquerda"
   ]
  },
  {
   "cell_type": "markdown",
   "metadata": {},
   "source": [
    "Tobservado:"
   ]
  },
  {
   "cell_type": "code",
   "execution_count": null,
   "metadata": {
    "collapsed": true
   },
   "outputs": [],
   "source": [
    "#t obs:\n",
    "1 - stats.t.cdf(t0, df=14)# t0 como T e df=n-1\n",
    "#valor p \n",
    "1 - stats.t.cdf(xb, loc=μ0, scale=s/sqrt(n), df=14)"
   ]
  },
  {
   "cell_type": "markdown",
   "metadata": {},
   "source": [
    "Teste para bicauldal : Tcrit esquerdo e direito"
   ]
  },
  {
   "cell_type": "code",
   "execution_count": null,
   "metadata": {
    "collapsed": true
   },
   "outputs": [],
   "source": [
    "# Teste T para bicaudal:\n",
    "p_value = 2*stats.t.cdf(x_, loc=μ0, scale=s/sqrt(n), df=n-1)#multiplica por 2\n",
    "# tcrit1:\n",
    "regiao_esquerda = stats.t.ppf(α/2, loc=μ0, scale=s/sqrt(n), df=n-1)\n",
    "#tcrit2:\n",
    "regiao_direita = stats.t.ppf(1.0 - α/2, loc=μ0, scale=s/sqrt(n), df=n-1)"
   ]
  },
  {
   "cell_type": "markdown",
   "metadata": {},
   "source": [
    "Feito isso, provar que T se aproxima de uma normal : qqplot"
   ]
  },
  {
   "cell_type": "code",
   "execution_count": null,
   "metadata": {
    "collapsed": true
   },
   "outputs": [],
   "source": [
    "stats.probplot(dados, dist='norm', plot=plt)"
   ]
  },
  {
   "cell_type": "markdown",
   "metadata": {},
   "source": [
    "Bootstrap: nem média nem desvpad conhecidos"
   ]
  },
  {
   "cell_type": "code",
   "execution_count": 14,
   "metadata": {
    "collapsed": false
   },
   "outputs": [
    {
     "data": {
      "text/plain": [
       "(array([  2.10000000e+01,   8.40000000e+01,   3.61000000e+02,\n",
       "          8.85000000e+02,   1.89400000e+03,   3.25800000e+03,\n",
       "          5.21200000e+03,   6.93900000e+03,   8.81700000e+03,\n",
       "          1.00720000e+04,   1.06080000e+04,   1.05690000e+04,\n",
       "          9.40200000e+03,   8.52300000e+03,   6.90400000e+03,\n",
       "          5.42500000e+03,   3.89400000e+03,   2.74700000e+03,\n",
       "          1.71700000e+03,   1.12000000e+03,   7.03000000e+02,\n",
       "          4.10000000e+02,   2.09000000e+02,   1.06000000e+02,\n",
       "          6.70000000e+01,   3.10000000e+01,   1.30000000e+01,\n",
       "          7.00000000e+00,   1.00000000e+00,   1.00000000e+00]),\n",
       " array([  99.05      ,  105.89048148,  112.73096296,  119.57144444,\n",
       "         126.41192593,  133.25240741,  140.09288889,  146.93337037,\n",
       "         153.77385185,  160.61433333,  167.45481481,  174.2952963 ,\n",
       "         181.13577778,  187.97625926,  194.81674074,  201.65722222,\n",
       "         208.4977037 ,  215.33818519,  222.17866667,  229.01914815,\n",
       "         235.85962963,  242.70011111,  249.54059259,  256.38107407,\n",
       "         263.22155556,  270.06203704,  276.90251852,  283.743     ,\n",
       "         290.58348148,  297.42396296,  304.26444444]),\n",
       " <a list of 30 Patch objects>)"
      ]
     },
     "execution_count": 14,
     "metadata": {},
     "output_type": "execute_result"
    },
    {
     "data": {
      "image/png": "[encoded data removed]",
      "text/plain": [
       "<matplotlib.figure.Figure at 0x21cc65c5550>"
      ]
     },
     "metadata": {},
     "output_type": "display_data"
    }
   ],
   "source": [
    "amostra = np.array([ 129.26,  204.49,  116.89,  106.4 ,   95.3 ,  123.35,   92.3 ,\n",
    "        300.02,  264.34,  168.27,   80.02,  117.96,  117.73,  370.47,\n",
    "        462.59,   92.58,  258.52,   82.59])\n",
    "n = len(amostra)\n",
    "count = 100000\n",
    "dist_amostras = np.random.choice(amostra, replace=True, size=(n, count))\n",
    "medias = np.mean(dist_amostras, axis = 0)                          \n",
    "plt.hist(medias, bins=30)"
   ]
  },
  {
   "cell_type": "markdown",
   "metadata": {},
   "source": [
    "Limite inferior e superior: depende do alpha"
   ]
  },
  {
   "cell_type": "code",
   "execution_count": null,
   "metadata": {
    "collapsed": true
   },
   "outputs": [],
   "source": [
    "np.percentile(medias, 2.5)\n",
    "np.percentile(medias, 97.5)"
   ]
  },
  {
   "cell_type": "markdown",
   "metadata": {},
   "source": [
    "Estimando Desv Pad : S"
   ]
  },
  {
   "cell_type": "code",
   "execution_count": 15,
   "metadata": {
    "collapsed": false
   },
   "outputs": [
    {
     "data": {
      "text/plain": [
       "(array([   11.,    32.,    44.,   112.,    80.,   275.,   446.,   755.,\n",
       "         1100.,  1806.,  2551.,  3487.,  4318.,  5096.,  5907.,  7470.,\n",
       "         8914.,  9572.,  9595.,  8473.,  8666.,  7372.,  5334.,  3885.,\n",
       "         2479.,  1285.,   629.,   221.,    68.,    17.]),\n",
       " array([  12.65076541,   17.7791064 ,   22.90744739,   28.03578838,\n",
       "          33.16412937,   38.29247036,   43.42081135,   48.54915234,\n",
       "          53.67749333,   58.80583432,   63.93417531,   69.0625163 ,\n",
       "          74.19085729,   79.31919828,   84.44753927,   89.57588026,\n",
       "          94.70422125,   99.83256224,  104.96090323,  110.08924422,\n",
       "         115.21758521,  120.3459262 ,  125.47426719,  130.60260818,\n",
       "         135.73094917,  140.85929016,  145.98763115,  151.11597214,\n",
       "         156.24431313,  161.37265412,  166.50099511]),\n",
       " <a list of 30 Patch objects>)"
      ]
     },
     "execution_count": 15,
     "metadata": {},
     "output_type": "execute_result"
    },
    {
     "data": {
      "image/png": "[encoded data removed]",
      "text/plain": [
       "<matplotlib.figure.Figure at 0x21cc69742b0>"
      ]
     },
     "metadata": {},
     "output_type": "display_data"
    }
   ],
   "source": [
    "dist_amostras_sd = np.random.choice(amostra, replace=True, size=(n, count))\n",
    "medias_sd = np.std(dist_amostras_sd, axis = 0)                          \n",
    "plt.hist(medias_sd, bins=30)"
   ]
  },
  {
   "cell_type": "markdown",
   "metadata": {},
   "source": [
    "Limite inferior e superior"
   ]
  },
  {
   "cell_type": "code",
   "execution_count": null,
   "metadata": {
    "collapsed": true
   },
   "outputs": [],
   "source": [
    "np.percentile(medias_sd, 2.5)\n",
    "np.percentile(medias_sd, 97.5)"
   ]
  },
  {
   "cell_type": "markdown",
   "metadata": {},
   "source": [
    "Regressão Linear: "
   ]
  },
  {
   "cell_type": "code",
   "execution_count": null,
   "metadata": {
    "collapsed": true
   },
   "outputs": [],
   "source": [
    "import statsmodels.api as sm\n",
    "\n",
    "Y = houses['Y']\n",
    "X = houses['X']\n",
    "X = sm.add_constant(X)\n",
    "model = sm.OLS(Y,X)\n",
    "results = model.fit()\n",
    "results.summary()"
   ]
  },
  {
   "cell_type": "markdown",
   "metadata": {},
   "source": [
    "Mapeando os resultados da regressão nos betas temos:\n",
    "\n",
    "β0=const\n",
    "\n",
    "β1=sqft_lot\n",
    "\n",
    "β2=sqft_basement\n",
    "\n"
   ]
  },
  {
   "cell_type": "code",
   "execution_count": null,
   "metadata": {
    "collapsed": true
   },
   "outputs": [],
   "source": [
    "beta_0 = results.params[\"const\"]\n",
    "beta_1 = results.params[\"X\"]"
   ]
  },
  {
   "cell_type": "markdown",
   "metadata": {},
   "source": [
    "Histograma dos ruidos :"
   ]
  },
  {
   "cell_type": "code",
   "execution_count": null,
   "metadata": {
    "collapsed": true
   },
   "outputs": [],
   "source": [
    "#Hist dos residuos fitado\n",
    "\n",
    "e = df['Y'] - (b0 + b1*df['X'])\n",
    "pd.Series(e).hist(normed=True);\n",
    "\n",
    "(loc, scale) = stats.norm.fit(e)\n",
    "x = np.arange(e.min(), e.max(), 0.01)\n",
    "plt.plot(x, stats.norm.pdf(x, loc=loc, scale=scale));"
   ]
  }
 ],
 "metadata": {
  "kernelspec": {
   "display_name": "Python 3",
   "language": "python",
   "name": "python3"
  },
  "language_info": {
   "codemirror_mode": {
    "name": "ipython",
    "version": 3
   },
   "file_extension": ".py",
   "mimetype": "text/x-python",
   "name": "python",
   "nbconvert_exporter": "python",
   "pygments_lexer": "ipython3",
   "version": "3.6.0"
  }
 },
 "nbformat": 4,
 "nbformat_minor": 2
}
