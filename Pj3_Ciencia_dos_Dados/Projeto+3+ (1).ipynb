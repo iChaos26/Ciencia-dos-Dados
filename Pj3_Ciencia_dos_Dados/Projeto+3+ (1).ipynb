{
 "cells": [
  {
   "cell_type": "markdown",
   "metadata": {},
   "source": [
    "# Projeto 3 -  Regressão Linear Simples\n",
    "\n",
    "## Informações do Projeto\n",
    "DataSet:<br /><br />https://www.kaggle.com/new-york-city/nyc-property-sales\n",
    "     nyc-property-sales\n",
    "\n",
    "Grupo:\n",
    "      Antonio Andraues<br />\n",
    "      Lucca Delchiaro <br/ >\n",
    "      Joao Edvirges.<br /><br />\n"
   ]
  },
  {
   "cell_type": "markdown",
   "metadata": {},
   "source": [
    "Esse jupyter acompanha um documento que explica o que cada um dos gráficos e dados gerados representam, assim como a conclusão e a avaliação individual dos alunos."
   ]
  },
  {
   "cell_type": "code",
   "execution_count": 3,
   "metadata": {
    "collapsed": false
   },
   "outputs": [
    {
     "name": "stderr",
     "output_type": "stream",
     "text": [
      "D:\\Python\\lib\\site-packages\\statsmodels\\compat\\pandas.py:56: FutureWarning: The pandas.core.datetools module is deprecated and will be removed in a future version. Please use the pandas.tseries module instead.\n",
      "  from pandas.core import datetools\n"
     ]
    }
   ],
   "source": [
    "import math\n",
    "import pandas as pd\n",
    "import json\n",
    "%matplotlib inline\n",
    "import matplotlib.pyplot as plt\n",
    "import mpl_toolkits.mplot3d.axes3d as axes3d\n",
    "from matplotlib import cm\n",
    "import numpy as np\n",
    "import seaborn as sns; sns.set()\n",
    "import numpy as np\n",
    "import matplotlib.pyplot as plt\n",
    "from mpl_toolkits.mplot3d import Axes3D\n",
    "from __future__ import print_function\n",
    "from ipywidgets import interact, interactive, fixed, interact_manual\n",
    "import ipywidgets as widgets\n",
    "from scipy.stats import *\n",
    "from sklearn import datasets, linear_model\n",
    "from sklearn.metrics import mean_squared_error, r2_score\n",
    "from sklearn.utils import shuffle\n",
    "from sklearn.mixture import GMM\n",
    "\n",
    "import numpy as np\n",
    "import statsmodels.api as sm"
   ]
  },
  {
   "cell_type": "code",
   "execution_count": 4,
   "metadata": {
    "collapsed": false
   },
   "outputs": [
    {
     "data": {
      "text/html": [
       "<div>\n",
       "<style>\n",
       "    .dataframe thead tr:only-child th {\n",
       "        text-align: right;\n",
       "    }\n",
       "\n",
       "    .dataframe thead th {\n",
       "        text-align: left;\n",
       "    }\n",
       "\n",
       "    .dataframe tbody tr th {\n",
       "        vertical-align: top;\n",
       "    }\n",
       "</style>\n",
       "<table border=\"1\" class=\"dataframe\">\n",
       "  <thead>\n",
       "    <tr style=\"text-align: right;\">\n",
       "      <th></th>\n",
       "      <th>Unnamed: 0</th>\n",
       "      <th>BOROUGH</th>\n",
       "      <th>NEIGHBORHOOD</th>\n",
       "      <th>BUILDING CLASS CATEGORY</th>\n",
       "      <th>TAX CLASS AT PRESENT</th>\n",
       "      <th>BLOCK</th>\n",
       "      <th>LOT</th>\n",
       "      <th>EASE-MENT</th>\n",
       "      <th>BUILDING CLASS AT PRESENT</th>\n",
       "      <th>ADDRESS</th>\n",
       "      <th>...</th>\n",
       "      <th>RESIDENTIAL UNITS</th>\n",
       "      <th>COMMERCIAL UNITS</th>\n",
       "      <th>TOTAL UNITS</th>\n",
       "      <th>LAND SQUARE FEET</th>\n",
       "      <th>GROSS SQUARE FEET</th>\n",
       "      <th>YEAR BUILT</th>\n",
       "      <th>TAX CLASS AT TIME OF SALE</th>\n",
       "      <th>BUILDING CLASS AT TIME OF SALE</th>\n",
       "      <th>SALE PRICE</th>\n",
       "      <th>SALE DATE</th>\n",
       "    </tr>\n",
       "  </thead>\n",
       "  <tbody>\n",
       "    <tr>\n",
       "      <th>0</th>\n",
       "      <td>4</td>\n",
       "      <td>1</td>\n",
       "      <td>ALPHABET CITY</td>\n",
       "      <td>07 RENTALS - WALKUP APARTMENTS</td>\n",
       "      <td>2A</td>\n",
       "      <td>392</td>\n",
       "      <td>6</td>\n",
       "      <td></td>\n",
       "      <td>C2</td>\n",
       "      <td>153 AVENUE B</td>\n",
       "      <td>...</td>\n",
       "      <td>5</td>\n",
       "      <td>0</td>\n",
       "      <td>5</td>\n",
       "      <td>1633</td>\n",
       "      <td>6440</td>\n",
       "      <td>1900</td>\n",
       "      <td>2</td>\n",
       "      <td>C2</td>\n",
       "      <td>6625000</td>\n",
       "      <td>2017-07-19 00:00:00</td>\n",
       "    </tr>\n",
       "    <tr>\n",
       "      <th>1</th>\n",
       "      <td>5</td>\n",
       "      <td>1</td>\n",
       "      <td>ALPHABET CITY</td>\n",
       "      <td>07 RENTALS - WALKUP APARTMENTS</td>\n",
       "      <td>2</td>\n",
       "      <td>399</td>\n",
       "      <td>26</td>\n",
       "      <td></td>\n",
       "      <td>C7</td>\n",
       "      <td>234 EAST 4TH   STREET</td>\n",
       "      <td>...</td>\n",
       "      <td>28</td>\n",
       "      <td>3</td>\n",
       "      <td>31</td>\n",
       "      <td>4616</td>\n",
       "      <td>18690</td>\n",
       "      <td>1900</td>\n",
       "      <td>2</td>\n",
       "      <td>C7</td>\n",
       "      <td>-</td>\n",
       "      <td>2016-12-14 00:00:00</td>\n",
       "    </tr>\n",
       "    <tr>\n",
       "      <th>2</th>\n",
       "      <td>6</td>\n",
       "      <td>1</td>\n",
       "      <td>ALPHABET CITY</td>\n",
       "      <td>07 RENTALS - WALKUP APARTMENTS</td>\n",
       "      <td>2</td>\n",
       "      <td>399</td>\n",
       "      <td>39</td>\n",
       "      <td></td>\n",
       "      <td>C7</td>\n",
       "      <td>197 EAST 3RD   STREET</td>\n",
       "      <td>...</td>\n",
       "      <td>16</td>\n",
       "      <td>1</td>\n",
       "      <td>17</td>\n",
       "      <td>2212</td>\n",
       "      <td>7803</td>\n",
       "      <td>1900</td>\n",
       "      <td>2</td>\n",
       "      <td>C7</td>\n",
       "      <td>-</td>\n",
       "      <td>2016-12-09 00:00:00</td>\n",
       "    </tr>\n",
       "    <tr>\n",
       "      <th>3</th>\n",
       "      <td>7</td>\n",
       "      <td>1</td>\n",
       "      <td>ALPHABET CITY</td>\n",
       "      <td>07 RENTALS - WALKUP APARTMENTS</td>\n",
       "      <td>2B</td>\n",
       "      <td>402</td>\n",
       "      <td>21</td>\n",
       "      <td></td>\n",
       "      <td>C4</td>\n",
       "      <td>154 EAST 7TH STREET</td>\n",
       "      <td>...</td>\n",
       "      <td>10</td>\n",
       "      <td>0</td>\n",
       "      <td>10</td>\n",
       "      <td>2272</td>\n",
       "      <td>6794</td>\n",
       "      <td>1913</td>\n",
       "      <td>2</td>\n",
       "      <td>C4</td>\n",
       "      <td>3936272</td>\n",
       "      <td>2016-09-23 00:00:00</td>\n",
       "    </tr>\n",
       "    <tr>\n",
       "      <th>4</th>\n",
       "      <td>8</td>\n",
       "      <td>1</td>\n",
       "      <td>ALPHABET CITY</td>\n",
       "      <td>07 RENTALS - WALKUP APARTMENTS</td>\n",
       "      <td>2A</td>\n",
       "      <td>404</td>\n",
       "      <td>55</td>\n",
       "      <td></td>\n",
       "      <td>C2</td>\n",
       "      <td>301 EAST 10TH   STREET</td>\n",
       "      <td>...</td>\n",
       "      <td>6</td>\n",
       "      <td>0</td>\n",
       "      <td>6</td>\n",
       "      <td>2369</td>\n",
       "      <td>4615</td>\n",
       "      <td>1900</td>\n",
       "      <td>2</td>\n",
       "      <td>C2</td>\n",
       "      <td>8000000</td>\n",
       "      <td>2016-11-17 00:00:00</td>\n",
       "    </tr>\n",
       "  </tbody>\n",
       "</table>\n",
       "<p>5 rows × 22 columns</p>\n",
       "</div>"
      ],
      "text/plain": [
       "   Unnamed: 0  BOROUGH   NEIGHBORHOOD  \\\n",
       "0           4        1  ALPHABET CITY   \n",
       "1           5        1  ALPHABET CITY   \n",
       "2           6        1  ALPHABET CITY   \n",
       "3           7        1  ALPHABET CITY   \n",
       "4           8        1  ALPHABET CITY   \n",
       "\n",
       "                       BUILDING CLASS CATEGORY TAX CLASS AT PRESENT  BLOCK  \\\n",
       "0  07 RENTALS - WALKUP APARTMENTS                                2A    392   \n",
       "1  07 RENTALS - WALKUP APARTMENTS                                 2    399   \n",
       "2  07 RENTALS - WALKUP APARTMENTS                                 2    399   \n",
       "3  07 RENTALS - WALKUP APARTMENTS                                2B    402   \n",
       "4  07 RENTALS - WALKUP APARTMENTS                                2A    404   \n",
       "\n",
       "   LOT EASE-MENT BUILDING CLASS AT PRESENT                 ADDRESS  \\\n",
       "0    6                                  C2            153 AVENUE B   \n",
       "1   26                                  C7   234 EAST 4TH   STREET   \n",
       "2   39                                  C7   197 EAST 3RD   STREET   \n",
       "3   21                                  C4     154 EAST 7TH STREET   \n",
       "4   55                                  C2  301 EAST 10TH   STREET   \n",
       "\n",
       "          ...          RESIDENTIAL UNITS  COMMERCIAL UNITS  TOTAL UNITS  \\\n",
       "0         ...                          5                 0            5   \n",
       "1         ...                         28                 3           31   \n",
       "2         ...                         16                 1           17   \n",
       "3         ...                         10                 0           10   \n",
       "4         ...                          6                 0            6   \n",
       "\n",
       "   LAND SQUARE FEET  GROSS SQUARE FEET YEAR BUILT TAX CLASS AT TIME OF SALE  \\\n",
       "0              1633               6440       1900                         2   \n",
       "1              4616              18690       1900                         2   \n",
       "2              2212               7803       1900                         2   \n",
       "3              2272               6794       1913                         2   \n",
       "4              2369               4615       1900                         2   \n",
       "\n",
       "   BUILDING CLASS AT TIME OF SALE  SALE PRICE            SALE DATE  \n",
       "0                              C2     6625000  2017-07-19 00:00:00  \n",
       "1                              C7         -    2016-12-14 00:00:00  \n",
       "2                              C7         -    2016-12-09 00:00:00  \n",
       "3                              C4     3936272  2016-09-23 00:00:00  \n",
       "4                              C2     8000000  2016-11-17 00:00:00  \n",
       "\n",
       "[5 rows x 22 columns]"
      ]
     },
     "execution_count": 4,
     "metadata": {},
     "output_type": "execute_result"
    }
   ],
   "source": [
    "dados=pd.read_csv(\"nyc-rolling-sales.csv\")\n",
    "dados.head()"
   ]
  },
  {
   "cell_type": "code",
   "execution_count": 5,
   "metadata": {
    "collapsed": false
   },
   "outputs": [
    {
     "data": {
      "text/html": [
       "<div>\n",
       "<style>\n",
       "    .dataframe thead tr:only-child th {\n",
       "        text-align: right;\n",
       "    }\n",
       "\n",
       "    .dataframe thead th {\n",
       "        text-align: left;\n",
       "    }\n",
       "\n",
       "    .dataframe tbody tr th {\n",
       "        vertical-align: top;\n",
       "    }\n",
       "</style>\n",
       "<table border=\"1\" class=\"dataframe\">\n",
       "  <thead>\n",
       "    <tr style=\"text-align: right;\">\n",
       "      <th></th>\n",
       "      <th>level_0</th>\n",
       "      <th>index</th>\n",
       "      <th>NEIGHBORHOOD</th>\n",
       "      <th>SALE_PRICE</th>\n",
       "      <th>BLOCK</th>\n",
       "      <th>TAX_CLASS_AT_PRESENT</th>\n",
       "      <th>GROSS_SQUARE_FEET</th>\n",
       "      <th>LAND_SQUARE</th>\n",
       "      <th>YEAR_BUILT</th>\n",
       "    </tr>\n",
       "  </thead>\n",
       "  <tbody>\n",
       "    <tr>\n",
       "      <th>0</th>\n",
       "      <td>3161</td>\n",
       "      <td>24880</td>\n",
       "      <td>WILLIAMSBRIDGE</td>\n",
       "      <td>430500.0</td>\n",
       "      <td>4843</td>\n",
       "      <td>1</td>\n",
       "      <td>1566.0</td>\n",
       "      <td>2860.0</td>\n",
       "      <td>1925</td>\n",
       "    </tr>\n",
       "    <tr>\n",
       "      <th>1</th>\n",
       "      <td>4334</td>\n",
       "      <td>27634</td>\n",
       "      <td>BEDFORD STUYVESANT</td>\n",
       "      <td>2500000.0</td>\n",
       "      <td>1813</td>\n",
       "      <td>2A</td>\n",
       "      <td>4800.0</td>\n",
       "      <td>2000.0</td>\n",
       "      <td>1931</td>\n",
       "    </tr>\n",
       "    <tr>\n",
       "      <th>2</th>\n",
       "      <td>23641</td>\n",
       "      <td>79933</td>\n",
       "      <td>MIDLAND BEACH</td>\n",
       "      <td>365000.0</td>\n",
       "      <td>3805</td>\n",
       "      <td>1</td>\n",
       "      <td>1800.0</td>\n",
       "      <td>1400.0</td>\n",
       "      <td>2003</td>\n",
       "    </tr>\n",
       "    <tr>\n",
       "      <th>3</th>\n",
       "      <td>6978</td>\n",
       "      <td>36426</td>\n",
       "      <td>EAST NEW YORK</td>\n",
       "      <td>400000.0</td>\n",
       "      <td>3982</td>\n",
       "      <td>1</td>\n",
       "      <td>1540.0</td>\n",
       "      <td>2500.0</td>\n",
       "      <td>1901</td>\n",
       "    </tr>\n",
       "    <tr>\n",
       "      <th>4</th>\n",
       "      <td>18509</td>\n",
       "      <td>71164</td>\n",
       "      <td>ROCKAWAY PARK</td>\n",
       "      <td>800000.0</td>\n",
       "      <td>16213</td>\n",
       "      <td>1</td>\n",
       "      <td>2445.0</td>\n",
       "      <td>4000.0</td>\n",
       "      <td>1929</td>\n",
       "    </tr>\n",
       "  </tbody>\n",
       "</table>\n",
       "</div>"
      ],
      "text/plain": [
       "   level_0  index        NEIGHBORHOOD  SALE_PRICE  BLOCK TAX_CLASS_AT_PRESENT  \\\n",
       "0     3161  24880      WILLIAMSBRIDGE    430500.0   4843                    1   \n",
       "1     4334  27634  BEDFORD STUYVESANT   2500000.0   1813                   2A   \n",
       "2    23641  79933       MIDLAND BEACH    365000.0   3805                    1   \n",
       "3     6978  36426       EAST NEW YORK    400000.0   3982                    1   \n",
       "4    18509  71164       ROCKAWAY PARK    800000.0  16213                    1   \n",
       "\n",
       "   GROSS_SQUARE_FEET  LAND_SQUARE  YEAR_BUILT  \n",
       "0             1566.0       2860.0        1925  \n",
       "1             4800.0       2000.0        1931  \n",
       "2             1800.0       1400.0        2003  \n",
       "3             1540.0       2500.0        1901  \n",
       "4             2445.0       4000.0        1929  "
      ]
     },
     "execution_count": 5,
     "metadata": {},
     "output_type": "execute_result"
    }
   ],
   "source": [
    "dados2=dados.loc[:,['NEIGHBORHOOD','SALE PRICE','BLOCK','TAX CLASS AT PRESENT','GROSS SQUARE FEET','LAND SQUARE FEET','YEAR BUILT']] #selecionando os subsets que vamos trabalhar\n",
    "dados2=dados2.rename(columns={'SALE PRICE': 'SALE_PRICE',\n",
    "                              'TAX CLASS AT PRESENT': 'TAX_CLASS_AT_PRESENT',\n",
    "                              'GROSS SQUARE FEET': 'GROSS_SQUARE_FEET',\n",
    "                              'LAND SQUARE FEET': 'LAND_SQUARE',\n",
    "                              'YEAR BUILT': 'YEAR_BUILT'})#facilitar a representacao da coluna\n",
    "\n",
    "\n",
    "dados2=dados2.loc[dados2.SALE_PRICE!=' -  ']#retirada do formato \"Nao completado\"\n",
    "dados2=dados2.loc[dados2.GROSS_SQUARE_FEET!=' -  ']#retirada do formato \"Nao completado\"\n",
    "dados2=dados2.loc[dados2.LAND_SQUARE!=' -  ']#retirada do formato \"Nao completado\"\n",
    "\n",
    "dados2.SALE_PRICE=dados2.SALE_PRICE.astype(\"float\") #Troca dos valores de string para float\n",
    "dados2.GROSS_SQUARE_FEET=dados2.GROSS_SQUARE_FEET.astype(\"float\") #Troca dos valores de string para float\n",
    "dados2.LAND_SQUARE=dados2.LAND_SQUARE.astype(\"float\") #Troca dos valores de string para float\n",
    "dados2.YEAR_BUILT=dados2.YEAR_BUILT.astype(\"int\") #Troca dos valores de string para int\n",
    "\n",
    "\n",
    "\n",
    "dados2=dados2.loc[dados2.TAX_CLASS_AT_PRESENT!='3'] #Segundo o dataset, os valores representados por 3 e 4 representam\n",
    "dados2=dados2.loc[dados2.TAX_CLASS_AT_PRESENT!='4'] #Fabricas e terrenos vazios, logo retiramos esses valores da analise\n",
    "\n",
    "dados2.SALE_PRICE=dados2.SALE_PRICE.loc[dados2.SALE_PRICE>=30000] #Retirando casas muito baratas \n",
    "dados2.SALE_PRICE=dados2.SALE_PRICE.loc[dados2.SALE_PRICE<=10000000] #Retirando casas acima do valor de 1bilhao de dollares\n",
    "dados2=dados2.loc[dados2.GROSS_SQUARE_FEET<=10000]#outliers\n",
    "dados2=dados2.loc[dados2.GROSS_SQUARE_FEET>0]#NO SENSE\n",
    "dados2=dados2.loc[dados2.LAND_SQUARE<=20000]#outliers \n",
    "dados2=dados2.loc[dados2.YEAR_BUILT>0]#NO SENSE\n",
    "\n",
    "dados2=dados2.dropna() #Retirada dos nan\n",
    "dados2=dados2.reset_index() #Re indexando para facilitar o shuffle e a selecao de index\n",
    "dados2 = shuffle(dados2)  #Shuffle dos dados para separarmos de maneira aleatoria dois diferentes grupos.\n",
    "dados2=dados2.reset_index()\n",
    "dados2.head(5)\n"
   ]
  },
  {
   "cell_type": "code",
   "execution_count": 6,
   "metadata": {
    "collapsed": false
   },
   "outputs": [
    {
     "name": "stdout",
     "output_type": "stream",
     "text": [
      "valores de quantos index possuem em cada dataset: TRANING=20908.0  TEST=5227.0\n"
     ]
    }
   ],
   "source": [
    "pe=len(dados2)*0.8 #Separacao do Training e do test dataset!\n",
    "pe1=len(dados2)*0.2\n",
    "\n",
    "print(\"valores de quantos index possuem em cada dataset: TRANING={0}  TEST={1}\".format(pe,pe1))\n",
    "\n",
    "dados80=dados2.head(20908)#Separacao do Training \n",
    "dados20=dados2.tail(5227)#Separacao do Test"
   ]
  },
  {
   "cell_type": "markdown",
   "metadata": {
    "collapsed": true
   },
   "source": [
    "Essa parte do codigo foi comentada, uma vez que não servia para analize dos nossos dados(Estava relaciona diretamente a nossa intenção de fazer um cluster)\n",
    "![image.png](attachment:image.png)\n",
    "\n",
    "Percebemos apartir de um um sample dos dados(relacionados a uma parte dos bairro), que não consiquiriamos fazer o cluster, e percebemos algumas outras oportunidades na regressão!"
   ]
  },
  {
   "cell_type": "code",
   "execution_count": 7,
   "metadata": {
    "collapsed": true,
    "scrolled": true
   },
   "outputs": [],
   "source": [
    "n=3 #numeros de bairros\n",
    "bairros = dados2.NEIGHBORHOOD[~dados2.NEIGHBORHOOD.duplicated(keep='first')] #Nomes de todos os bairros uma unica vez\n",
    "primeirosB=bairros[:n] #primeiros 10 bairros para analize\n",
    "primeirosBairros=[] #colocando os nomes em uma lista\n",
    "for i in primeirosB:\n",
    "    primeirosBairros.append(i)\n",
    "        \n",
    "Precos=[]         #pegando os precos para cada bairro\n",
    "for u in primeirosBairros:  \n",
    "    ppp=dados2.loc[dados2.NEIGHBORHOOD==u]\n",
    "    pp=ppp  #Serve para analizar cada bairro individualmente\n",
    "    for c in range(0,len(ppp)):\n",
    "        preco=ppp.SALE_PRICE\n",
    "    Precos.append(preco)\n",
    "# dados2.plot.scatter(x='LAND_SQUARE_FEET',y='BLOCK',z='SALE_PRICE',norm=1)\n",
    "\n",
    "# dd=pd.DataFrame(Precos,columns=[primeirosBairros]) #Gerado randomicamente so para teste    \n",
    "\n",
    "# Plot\n",
    "# fig, ax = plt.subplots()\n",
    "# ax.legend()\n",
    "\n",
    "# plt.show()\n",
    "\n",
    "# dd=pd.DataFrame(np.random.rand(len(preco), n),columns=[primeirosBairros]) #Gerado randomicamente so para teste\n",
    "# print(dd.max())\n",
    "\n",
    "# ax = dd.plot.scatter(x=primeirosBairros[0], y=primeirosBairros[0], color='DarkBlue', label=primeirosBairros[0]);\n",
    "# dd.plot.scatter(x=primeirosBairros[1], y=primeirosBairros[1], color='DarkGreen', label=primeirosBairros[1], ax=ax);\n",
    "\n",
    "# plt.show()\n",
    "\n"
   ]
  },
  {
   "cell_type": "markdown",
   "metadata": {},
   "source": [
    "# REGRESSAO"
   ]
  },
  {
   "cell_type": "code",
   "execution_count": 8,
   "metadata": {
    "collapsed": false
   },
   "outputs": [
    {
     "name": "stdout",
     "output_type": "stream",
     "text": [
      "formula: y = -4.7121046341949855e-05x + 13.626162389764113\n"
     ]
    },
    {
     "data": {
      "image/png": "[encoded data removed]",
      "text/plain": [
       "<matplotlib.figure.Figure at 0x22ab83d89b0>"
      ]
     },
     "metadata": {},
     "output_type": "display_data"
    }
   ],
   "source": [
    "\n",
    "df4 = pd.DataFrame()\n",
    "df4['BLOCK'] = dados80.BLOCK   #Primeira variavel a ser interpretada\n",
    "df4['PRICE'] = np.log(dados80.SALE_PRICE) #O preco sera em todas as regressoes a principal variavel que queremos prever\n",
    "mdl = linear_model.LinearRegression().fit(df4[['BLOCK']],df4['PRICE'])\n",
    "m = mdl.coef_[0]  #Os coeficientes e o intercept nao serao unicamente descobertos por meio da funcao!\n",
    "b = mdl.intercept_\n",
    "print(\"formula: y = {0}x + {1}\".format(m, b))\n",
    "df4.plot.scatter(x='BLOCK',y='PRICE',color='blue')\n",
    "lista=[]\n",
    "t=[]\n",
    "for i in range (max(df4.BLOCK)+4000): # Aqui neste \"for\" acrescentamos um valor fixo de blocks para nossa previsao!mais 4000!\n",
    "    lista.append(m*i+b)                  #Dois quais representariam bairros posssivelmente mais distantes da marca inicial adotada\n",
    "    t.append(i) #Lembrando de acrescentar em uma lista para o plot da reta!\n",
    "plt.plot(t,lista,'r') \n",
    "plt.title('Linear Regression', fontsize = 20)\n",
    "plt.xlabel('BLOCK', fontsize = 15)\n",
    "plt.ylabel('PRICE(Ln)', fontsize = 15) #Utilizamos o Ln para melhorar a escala! e facilitar a visualizacao da nossa regressao!\n",
    "plt.show()\n"
   ]
  },
  {
   "cell_type": "markdown",
   "metadata": {},
   "source": [
    "Consegumios encontrar uma reta que se adeque ao modelo e rodamos uma previsão para os 4000 valores seguintes."
   ]
  },
  {
   "cell_type": "code",
   "execution_count": 9,
   "metadata": {
    "collapsed": false
   },
   "outputs": [
    {
     "data": {
      "text/html": [
       "<table class=\"simpletable\">\n",
       "<caption>OLS Regression Results</caption>\n",
       "<tr>\n",
       "  <th>Dep. Variable:</th>          <td>PRICE</td>      <th>  R-squared:         </th> <td>   0.070</td> \n",
       "</tr>\n",
       "<tr>\n",
       "  <th>Model:</th>                   <td>OLS</td>       <th>  Adj. R-squared:    </th> <td>   0.070</td> \n",
       "</tr>\n",
       "<tr>\n",
       "  <th>Method:</th>             <td>Least Squares</td>  <th>  F-statistic:       </th> <td>   1581.</td> \n",
       "</tr>\n",
       "<tr>\n",
       "  <th>Date:</th>             <td>Tue, 21 Nov 2017</td> <th>  Prob (F-statistic):</th>  <td>  0.00</td>  \n",
       "</tr>\n",
       "<tr>\n",
       "  <th>Time:</th>                 <td>20:54:38</td>     <th>  Log-Likelihood:    </th> <td> -20600.</td> \n",
       "</tr>\n",
       "<tr>\n",
       "  <th>No. Observations:</th>      <td> 20908</td>      <th>  AIC:               </th> <td>4.120e+04</td>\n",
       "</tr>\n",
       "<tr>\n",
       "  <th>Df Residuals:</th>          <td> 20906</td>      <th>  BIC:               </th> <td>4.122e+04</td>\n",
       "</tr>\n",
       "<tr>\n",
       "  <th>Df Model:</th>              <td>     1</td>      <th>                     </th>     <td> </td>    \n",
       "</tr>\n",
       "<tr>\n",
       "  <th>Covariance Type:</th>      <td>nonrobust</td>    <th>                     </th>     <td> </td>    \n",
       "</tr>\n",
       "</table>\n",
       "<table class=\"simpletable\">\n",
       "<tr>\n",
       "    <td></td>       <th>coef</th>     <th>std err</th>      <th>t</th>      <th>P>|t|</th>  <th>[0.025</th>    <th>0.975]</th>  \n",
       "</tr>\n",
       "<tr>\n",
       "  <th>const</th> <td>   13.6262</td> <td>    0.008</td> <td> 1672.173</td> <td> 0.000</td> <td>   13.610</td> <td>   13.642</td>\n",
       "</tr>\n",
       "<tr>\n",
       "  <th>BLOCK</th> <td>-4.712e-05</td> <td> 1.19e-06</td> <td>  -39.758</td> <td> 0.000</td> <td>-4.94e-05</td> <td>-4.48e-05</td>\n",
       "</tr>\n",
       "</table>\n",
       "<table class=\"simpletable\">\n",
       "<tr>\n",
       "  <th>Omnibus:</th>       <td>1123.510</td> <th>  Durbin-Watson:     </th> <td>   1.998</td>\n",
       "</tr>\n",
       "<tr>\n",
       "  <th>Prob(Omnibus):</th>  <td> 0.000</td>  <th>  Jarque-Bera (JB):  </th> <td>4126.866</td>\n",
       "</tr>\n",
       "<tr>\n",
       "  <th>Skew:</th>           <td>-0.142</td>  <th>  Prob(JB):          </th> <td>    0.00</td>\n",
       "</tr>\n",
       "<tr>\n",
       "  <th>Kurtosis:</th>       <td> 5.158</td>  <th>  Cond. No.          </th> <td>1.25e+04</td>\n",
       "</tr>\n",
       "</table>"
      ],
      "text/plain": [
       "<class 'statsmodels.iolib.summary.Summary'>\n",
       "\"\"\"\n",
       "                            OLS Regression Results                            \n",
       "==============================================================================\n",
       "Dep. Variable:                  PRICE   R-squared:                       0.070\n",
       "Model:                            OLS   Adj. R-squared:                  0.070\n",
       "Method:                 Least Squares   F-statistic:                     1581.\n",
       "Date:                Tue, 21 Nov 2017   Prob (F-statistic):               0.00\n",
       "Time:                        20:54:38   Log-Likelihood:                -20600.\n",
       "No. Observations:               20908   AIC:                         4.120e+04\n",
       "Df Residuals:                   20906   BIC:                         4.122e+04\n",
       "Df Model:                           1                                         \n",
       "Covariance Type:            nonrobust                                         \n",
       "==============================================================================\n",
       "                 coef    std err          t      P>|t|      [0.025      0.975]\n",
       "------------------------------------------------------------------------------\n",
       "const         13.6262      0.008   1672.173      0.000      13.610      13.642\n",
       "BLOCK      -4.712e-05   1.19e-06    -39.758      0.000   -4.94e-05   -4.48e-05\n",
       "==============================================================================\n",
       "Omnibus:                     1123.510   Durbin-Watson:                   1.998\n",
       "Prob(Omnibus):                  0.000   Jarque-Bera (JB):             4126.866\n",
       "Skew:                          -0.142   Prob(JB):                         0.00\n",
       "Kurtosis:                       5.158   Cond. No.                     1.25e+04\n",
       "==============================================================================\n",
       "\n",
       "Warnings:\n",
       "[1] Standard Errors assume that the covariance matrix of the errors is correctly specified.\n",
       "[2] The condition number is large, 1.25e+04. This might indicate that there are\n",
       "strong multicollinearity or other numerical problems.\n",
       "\"\"\""
      ]
     },
     "execution_count": 9,
     "metadata": {},
     "output_type": "execute_result"
    }
   ],
   "source": [
    "X = df4['PRICE']\n",
    "Y = df4[\"BLOCK\"]\n",
    "Y = sm.add_constant(Y)\n",
    "model = sm.OLS(X,Y)\n",
    "results1 = model.fit()\n",
    "results1.summary()"
   ]
  },
  {
   "cell_type": "markdown",
   "metadata": {},
   "source": [
    "Aqui devido ao baixo valor de P, percebemos que não existem betas a serem descartados"
   ]
  },
  {
   "cell_type": "markdown",
   "metadata": {},
   "source": [
    " "
   ]
  },
  {
   "cell_type": "markdown",
   "metadata": {},
   "source": [
    "Como não tinhamos experiencia com o OLS, decidimos calcular os valores utilizando as formulas em si para ver se o ele realmente se adapta ao nosso modelo\n"
   ]
  },
  {
   "cell_type": "code",
   "execution_count": 10,
   "metadata": {
    "collapsed": false
   },
   "outputs": [
    {
     "name": "stdout",
     "output_type": "stream",
     "text": [
      "13.355608367305516 5741.6811268414\n",
      "Sxy é -14092714.573128216\n",
      "Sxx é 299074737663.0722\n",
      "Beta 0 é 13.62616238976411\n",
      "Beta 1 é -4.712104634195017e-05\n"
     ]
    }
   ],
   "source": [
    "my = df4['PRICE'].mean()\n",
    "mx = df4['BLOCK'].mean()\n",
    "Sxy = 0\n",
    "Sxx = 0\n",
    "SSr =0 \n",
    "for i in range(len(df4)):\n",
    "    Sxy += (df4['BLOCK'][i] - mx)*(df4['PRICE'][i] - my)\n",
    "    Sxx += (df4['BLOCK'][i] - mx)**2\n",
    "    SSr +=  (df4['PRICE'][i] - my)**2\n",
    "B1 = Sxy/Sxx\n",
    "\n",
    "Bo = my - B1*mx\n",
    "print(my,mx)\n",
    "print('Sxy é {}'.format(Sxy))\n",
    "print('Sxx é {}'.format(Sxx))\n",
    "print('Beta 0 é {}'.format(Bo))\n",
    "print('Beta 1 é {}'.format(B1))"
   ]
  },
  {
   "cell_type": "code",
   "execution_count": 11,
   "metadata": {
    "collapsed": false
   },
   "outputs": [
    {
     "name": "stdout",
     "output_type": "stream",
     "text": [
      "σ̂ é o desvio padrão estimado : 0.6481624999511408\n",
      "σ̂ β0 é o desvio padrão estimado de β0 : 0.008148777400928366\n",
      "σ̂ β1 é o desvio padrão estimado de β1 : 1.1852065302184414e-06\n"
     ]
    }
   ],
   "source": [
    "SSe = 0\n",
    "n = len(df4)\n",
    "for i in range(len(df4)):\n",
    "    SSe += (df4['PRICE'][i] - (Bo + B1*df4['BLOCK'][i]))**2\n",
    "    \n",
    "dpestimado = (SSe/(n-2))**0.5\n",
    "print('σ̂ é o desvio padrão estimado : {}'.format(dpestimado))\n",
    "dpestimadoBo = dpestimado*(1/n + (mx)**2/Sxx)**0.5\n",
    "dpestimadoB1 = dpestimado/(Sxx)**0.5\n",
    "print('σ̂ β0 é o desvio padrão estimado de β0 : {}'.format(dpestimadoBo))\n",
    "print('σ̂ β1 é o desvio padrão estimado de β1 : {}'.format(dpestimadoB1))"
   ]
  },
  {
   "cell_type": "markdown",
   "metadata": {},
   "source": [
    "Percebemos aqui que o σ̂ β0 e o σ̂ β1 coincidem com o do OLS"
   ]
  },
  {
   "cell_type": "markdown",
   "metadata": {},
   "source": [
    " "
   ]
  },
  {
   "cell_type": "markdown",
   "metadata": {},
   "source": [
    " "
   ]
  },
  {
   "cell_type": "markdown",
   "metadata": {},
   "source": [
    "Exemplo do amostral    20%:\n",
    "\n"
   ]
  },
  {
   "cell_type": "code",
   "execution_count": 12,
   "metadata": {
    "collapsed": false
   },
   "outputs": [
    {
     "name": "stdout",
     "output_type": "stream",
     "text": [
      "formula: y = -4.7121046341949855e-05x + 13.626162389764113\n"
     ]
    },
    {
     "data": {
      "image/png": "[encoded data removed]",
      "text/plain": [
       "<matplotlib.figure.Figure at 0x22ab7fe9b38>"
      ]
     },
     "metadata": {},
     "output_type": "display_data"
    }
   ],
   "source": [
    "df42 = pd.DataFrame() \n",
    "df42['BLOCK'] = dados20.BLOCK\n",
    "df42['PRICE'] = np.log(dados20.SALE_PRICE)\n",
    "print(\"formula: y = {0}x + {1}\".format(m, b))\n",
    "df42.plot.scatter(x='BLOCK',y='PRICE',color='blue')\n",
    "lista=[]\n",
    "t=[]\n",
    "for i in range (max(df42.BLOCK)+4000):\n",
    "    lista.append(m*i+b)\n",
    "    t.append(i)\n",
    "plt.plot(t,lista,'r')\n",
    "plt.title('Linear Regression', fontsize = 20)\n",
    "plt.xlabel('BLOCK', fontsize = 15)\n",
    "plt.ylabel('PRICE(Ln)', fontsize = 15)\n",
    "plt.show()\n"
   ]
  },
  {
   "cell_type": "markdown",
   "metadata": {},
   "source": [
    "Ve os aqui que para o scatter da amostra a reta ainda parece ser adequada."
   ]
  },
  {
   "cell_type": "markdown",
   "metadata": {},
   "source": [
    "Histograma de erros com o amostral:"
   ]
  },
  {
   "cell_type": "markdown",
   "metadata": {},
   "source": [
    "$$e=(\\hat{y}-yi)$$"
   ]
  },
  {
   "cell_type": "markdown",
   "metadata": {},
   "source": [
    " "
   ]
  },
  {
   "cell_type": "code",
   "execution_count": 13,
   "metadata": {
    "collapsed": false
   },
   "outputs": [
    {
     "data": {
      "text/plain": [
       "<matplotlib.axes._subplots.AxesSubplot at 0x22ab7fe3b38>"
      ]
     },
     "execution_count": 13,
     "metadata": {},
     "output_type": "execute_result"
    },
    {
     "data": {
      "image/png": "[encoded data removed]",
      "text/plain": [
       "<matplotlib.figure.Figure at 0x22ab83a8a90>"
      ]
     },
     "metadata": {},
     "output_type": "display_data"
    }
   ],
   "source": [
    "E =  (m+b) - df42.PRICE\n",
    "E.hist(normed=True)"
   ]
  },
  {
   "cell_type": "markdown",
   "metadata": {},
   "source": [
    "Então resolvemos fazer scatters incluindo o Gross Square Feet e o Land Square Fit"
   ]
  },
  {
   "cell_type": "code",
   "execution_count": 14,
   "metadata": {
    "collapsed": false
   },
   "outputs": [
    {
     "data": {
      "application/vnd.jupyter.widget-view+json": {
       "model_id": "0adc390e07f045809574ffb5b93d8f97"
      }
     },
     "metadata": {},
     "output_type": "display_data"
    }
   ],
   "source": [
    "df = pd.DataFrame()\n",
    "@interact(rodar_em_x = (0, 360, 20),rodar_em_y = (0, 360, 20))\n",
    "def f(rodar_em_x=40,rodar_em_y=60):\n",
    "    df['GSF'] = dados80.GROSS_SQUARE_FEET*10**3\n",
    "    df['BLOCK'] = dados80.BLOCK\n",
    "    df['PRICE'] = np.log(dados80.SALE_PRICE)\n",
    "    threedee = plt.figure().gca(projection='3d')\n",
    "    threedee.scatter(df.GSF, df.BLOCK, df.PRICE,c='blue',\n",
    "           marker='o',\n",
    "           alpha=0.2)\n",
    "    threedee.set_xlabel('GROSS_SQUARE_FEET')\n",
    "    threedee.set_ylabel('BLOCK')\n",
    "    threedee.set_zlabel('PRICE')\n",
    "    threedee.view_init(rodar_em_x,rodar_em_y )\n",
    "    plt.show()\n",
    "#     x_surf = np.arange(0, max(df[\"GSF\"]),max(df[\"GSF\"])*0.15)                \n",
    "#     y_surf = np.arange(0, max(df[\"BLOCK\"]),max(df[\"BLOCK\"])*0.15)\n",
    "#     x_surf, y_surf = np.meshgrid(x_surf, y_surf)\n",
    "#     exog = pd.core.frame.DataFrame({'GSF': x_surf.ravel(), 'BLOCK': y_surf.ravel()})\n",
    "#     out = results.predict(exog = exog)\n",
    "#     threedee.plot_surface(x_surf, y_surf, z_surf,rstride=1,\n",
    "#                 cstride=1,\n",
    "#                 color='None',        \n",
    "#                 alpha = 0.4)         #TENTATIVA DE PLOTAGEM PLANO"
   ]
  },
  {
   "cell_type": "code",
   "execution_count": 15,
   "metadata": {
    "collapsed": false
   },
   "outputs": [
    {
     "data": {
      "text/html": [
       "<table class=\"simpletable\">\n",
       "<caption>OLS Regression Results</caption>\n",
       "<tr>\n",
       "  <th>Dep. Variable:</th>          <td>PRICE</td>      <th>  R-squared:         </th> <td>   0.270</td> \n",
       "</tr>\n",
       "<tr>\n",
       "  <th>Model:</th>                   <td>OLS</td>       <th>  Adj. R-squared:    </th> <td>   0.270</td> \n",
       "</tr>\n",
       "<tr>\n",
       "  <th>Method:</th>             <td>Least Squares</td>  <th>  F-statistic:       </th> <td>   3867.</td> \n",
       "</tr>\n",
       "<tr>\n",
       "  <th>Date:</th>             <td>Tue, 21 Nov 2017</td> <th>  Prob (F-statistic):</th>  <td>  0.00</td>  \n",
       "</tr>\n",
       "<tr>\n",
       "  <th>Time:</th>                 <td>20:54:42</td>     <th>  Log-Likelihood:    </th> <td> -18072.</td> \n",
       "</tr>\n",
       "<tr>\n",
       "  <th>No. Observations:</th>      <td> 20908</td>      <th>  AIC:               </th> <td>3.615e+04</td>\n",
       "</tr>\n",
       "<tr>\n",
       "  <th>Df Residuals:</th>          <td> 20905</td>      <th>  BIC:               </th> <td>3.617e+04</td>\n",
       "</tr>\n",
       "<tr>\n",
       "  <th>Df Model:</th>              <td>     2</td>      <th>                     </th>     <td> </td>    \n",
       "</tr>\n",
       "<tr>\n",
       "  <th>Covariance Type:</th>      <td>nonrobust</td>    <th>                     </th>     <td> </td>    \n",
       "</tr>\n",
       "</table>\n",
       "<table class=\"simpletable\">\n",
       "<tr>\n",
       "    <td></td>       <th>coef</th>     <th>std err</th>      <th>t</th>      <th>P>|t|</th>  <th>[0.025</th>    <th>0.975]</th>  \n",
       "</tr>\n",
       "<tr>\n",
       "  <th>const</th> <td>   12.9340</td> <td>    0.012</td> <td> 1109.477</td> <td> 0.000</td> <td>   12.911</td> <td>   12.957</td>\n",
       "</tr>\n",
       "<tr>\n",
       "  <th>BLOCK</th> <td>-2.706e-05</td> <td> 1.08e-06</td> <td>  -24.980</td> <td> 0.000</td> <td>-2.92e-05</td> <td>-2.49e-05</td>\n",
       "</tr>\n",
       "<tr>\n",
       "  <th>GSF</th>   <td> 2.784e-07</td> <td> 3.68e-09</td> <td>   75.632</td> <td> 0.000</td> <td> 2.71e-07</td> <td> 2.86e-07</td>\n",
       "</tr>\n",
       "</table>\n",
       "<table class=\"simpletable\">\n",
       "<tr>\n",
       "  <th>Omnibus:</th>       <td>3305.943</td> <th>  Durbin-Watson:     </th> <td>   1.997</td> \n",
       "</tr>\n",
       "<tr>\n",
       "  <th>Prob(Omnibus):</th>  <td> 0.000</td>  <th>  Jarque-Bera (JB):  </th> <td>12061.724</td>\n",
       "</tr>\n",
       "<tr>\n",
       "  <th>Skew:</th>           <td>-0.773</td>  <th>  Prob(JB):          </th> <td>    0.00</td> \n",
       "</tr>\n",
       "<tr>\n",
       "  <th>Kurtosis:</th>       <td> 6.385</td>  <th>  Cond. No.          </th> <td>6.91e+06</td> \n",
       "</tr>\n",
       "</table>"
      ],
      "text/plain": [
       "<class 'statsmodels.iolib.summary.Summary'>\n",
       "\"\"\"\n",
       "                            OLS Regression Results                            \n",
       "==============================================================================\n",
       "Dep. Variable:                  PRICE   R-squared:                       0.270\n",
       "Model:                            OLS   Adj. R-squared:                  0.270\n",
       "Method:                 Least Squares   F-statistic:                     3867.\n",
       "Date:                Tue, 21 Nov 2017   Prob (F-statistic):               0.00\n",
       "Time:                        20:54:42   Log-Likelihood:                -18072.\n",
       "No. Observations:               20908   AIC:                         3.615e+04\n",
       "Df Residuals:                   20905   BIC:                         3.617e+04\n",
       "Df Model:                           2                                         \n",
       "Covariance Type:            nonrobust                                         \n",
       "==============================================================================\n",
       "                 coef    std err          t      P>|t|      [0.025      0.975]\n",
       "------------------------------------------------------------------------------\n",
       "const         12.9340      0.012   1109.477      0.000      12.911      12.957\n",
       "BLOCK      -2.706e-05   1.08e-06    -24.980      0.000   -2.92e-05   -2.49e-05\n",
       "GSF         2.784e-07   3.68e-09     75.632      0.000    2.71e-07    2.86e-07\n",
       "==============================================================================\n",
       "Omnibus:                     3305.943   Durbin-Watson:                   1.997\n",
       "Prob(Omnibus):                  0.000   Jarque-Bera (JB):            12061.724\n",
       "Skew:                          -0.773   Prob(JB):                         0.00\n",
       "Kurtosis:                       6.385   Cond. No.                     6.91e+06\n",
       "==============================================================================\n",
       "\n",
       "Warnings:\n",
       "[1] Standard Errors assume that the covariance matrix of the errors is correctly specified.\n",
       "[2] The condition number is large, 6.91e+06. This might indicate that there are\n",
       "strong multicollinearity or other numerical problems.\n",
       "\"\"\""
      ]
     },
     "execution_count": 15,
     "metadata": {},
     "output_type": "execute_result"
    }
   ],
   "source": [
    "Z = df['PRICE']\n",
    "Y = df[['BLOCK','GSF']]\n",
    "Y = sm.add_constant(Y)\n",
    "model = sm.OLS(Z,Y)\n",
    "results = model.fit()\n",
    "results.summary()"
   ]
  },
  {
   "cell_type": "markdown",
   "metadata": {},
   "source": [
    "Percebemos que para o GSF existe dependência"
   ]
  },
  {
   "cell_type": "markdown",
   "metadata": {},
   "source": [
    "Considerando os dados da Tabela OSL(\"\"aproximados, devido a cada shuffle mudarmos os valores\"\")"
   ]
  },
  {
   "cell_type": "markdown",
   "metadata": {},
   "source": [
    "Histogrtama de erros com o amostral:"
   ]
  },
  {
   "cell_type": "markdown",
   "metadata": {},
   "source": [
    "$$e=(\\hat{y}-yi)$$"
   ]
  },
  {
   "cell_type": "code",
   "execution_count": 16,
   "metadata": {
    "collapsed": false
   },
   "outputs": [
    {
     "data": {
      "text/plain": [
       "<matplotlib.axes._subplots.AxesSubplot at 0x22ab801c7f0>"
      ]
     },
     "execution_count": 16,
     "metadata": {},
     "output_type": "execute_result"
    },
    {
     "data": {
      "image/png": "[encoded data removed]",
      "text/plain": [
       "<matplotlib.figure.Figure at 0x22ab7cc8710>"
      ]
     },
     "metadata": {},
     "output_type": "display_data"
    }
   ],
   "source": [
    "E =  (2.788e-07-2.745e-05+12.9322) - df42.PRICE\n",
    "E.hist(normed=True)"
   ]
  },
  {
   "cell_type": "code",
   "execution_count": 17,
   "metadata": {
    "collapsed": false
   },
   "outputs": [
    {
     "data": {
      "application/vnd.jupyter.widget-view+json": {
       "model_id": "682d8a2379c942ae8a7cc0fda509d2f5"
      }
     },
     "metadata": {},
     "output_type": "display_data"
    }
   ],
   "source": [
    "df2 = pd.DataFrame()\n",
    "@interact(rodar_em_x = (0, 360, 20),rodar_em_y = (0, 360, 20)) #ROTACAO DO GRAFICO\n",
    "def f(rodar_em_x=40,rodar_em_y=60):\n",
    "    df2['LS'] = dados80.LAND_SQUARE\n",
    "    df2['BL'] = dados80.BLOCK\n",
    "    df2['SP'] = np.log(dados80.SALE_PRICE)\n",
    "    threedee = plt.figure().gca(projection='3d')\n",
    "    threedee.scatter(df2.LS, df2.BL, df2.SP,c='blue',\n",
    "           marker='o',\n",
    "           alpha=0.2)\n",
    "    threedee.set_xlabel('LAND SQUARE')\n",
    "    threedee.set_ylabel('BLOCK')\n",
    "    threedee.set_zlabel('SALE PRICE')\n",
    "    threedee.view_init(rodar_em_x,rodar_em_y )\n",
    "    plt.show()\n"
   ]
  },
  {
   "cell_type": "code",
   "execution_count": 18,
   "metadata": {
    "collapsed": false
   },
   "outputs": [
    {
     "data": {
      "text/html": [
       "<table class=\"simpletable\">\n",
       "<caption>OLS Regression Results</caption>\n",
       "<tr>\n",
       "  <th>Dep. Variable:</th>           <td>SP</td>        <th>  R-squared:         </th> <td>   0.078</td> \n",
       "</tr>\n",
       "<tr>\n",
       "  <th>Model:</th>                   <td>OLS</td>       <th>  Adj. R-squared:    </th> <td>   0.078</td> \n",
       "</tr>\n",
       "<tr>\n",
       "  <th>Method:</th>             <td>Least Squares</td>  <th>  F-statistic:       </th> <td>   887.1</td> \n",
       "</tr>\n",
       "<tr>\n",
       "  <th>Date:</th>             <td>Tue, 21 Nov 2017</td> <th>  Prob (F-statistic):</th>  <td>  0.00</td>  \n",
       "</tr>\n",
       "<tr>\n",
       "  <th>Time:</th>                 <td>20:54:44</td>     <th>  Log-Likelihood:    </th> <td> -20511.</td> \n",
       "</tr>\n",
       "<tr>\n",
       "  <th>No. Observations:</th>      <td> 20908</td>      <th>  AIC:               </th> <td>4.103e+04</td>\n",
       "</tr>\n",
       "<tr>\n",
       "  <th>Df Residuals:</th>          <td> 20905</td>      <th>  BIC:               </th> <td>4.105e+04</td>\n",
       "</tr>\n",
       "<tr>\n",
       "  <th>Df Model:</th>              <td>     2</td>      <th>                     </th>     <td> </td>    \n",
       "</tr>\n",
       "<tr>\n",
       "  <th>Covariance Type:</th>      <td>nonrobust</td>    <th>                     </th>     <td> </td>    \n",
       "</tr>\n",
       "</table>\n",
       "<table class=\"simpletable\">\n",
       "<tr>\n",
       "    <td></td>       <th>coef</th>     <th>std err</th>      <th>t</th>      <th>P>|t|</th>  <th>[0.025</th>    <th>0.975]</th>  \n",
       "</tr>\n",
       "<tr>\n",
       "  <th>const</th> <td>   13.5297</td> <td>    0.011</td> <td> 1248.081</td> <td> 0.000</td> <td>   13.508</td> <td>   13.551</td>\n",
       "</tr>\n",
       "<tr>\n",
       "  <th>BL</th>    <td>-4.898e-05</td> <td> 1.19e-06</td> <td>  -41.218</td> <td> 0.000</td> <td>-5.13e-05</td> <td>-4.66e-05</td>\n",
       "</tr>\n",
       "<tr>\n",
       "  <th>LS</th>    <td> 3.586e-05</td> <td> 2.67e-06</td> <td>   13.414</td> <td> 0.000</td> <td> 3.06e-05</td> <td> 4.11e-05</td>\n",
       "</tr>\n",
       "</table>\n",
       "<table class=\"simpletable\">\n",
       "<tr>\n",
       "  <th>Omnibus:</th>       <td>1158.921</td> <th>  Durbin-Watson:     </th> <td>   1.998</td>\n",
       "</tr>\n",
       "<tr>\n",
       "  <th>Prob(Omnibus):</th>  <td> 0.000</td>  <th>  Jarque-Bera (JB):  </th> <td>4458.225</td>\n",
       "</tr>\n",
       "<tr>\n",
       "  <th>Skew:</th>           <td>-0.129</td>  <th>  Prob(JB):          </th> <td>    0.00</td>\n",
       "</tr>\n",
       "<tr>\n",
       "  <th>Kurtosis:</th>       <td> 5.247</td>  <th>  Cond. No.          </th> <td>1.80e+04</td>\n",
       "</tr>\n",
       "</table>"
      ],
      "text/plain": [
       "<class 'statsmodels.iolib.summary.Summary'>\n",
       "\"\"\"\n",
       "                            OLS Regression Results                            \n",
       "==============================================================================\n",
       "Dep. Variable:                     SP   R-squared:                       0.078\n",
       "Model:                            OLS   Adj. R-squared:                  0.078\n",
       "Method:                 Least Squares   F-statistic:                     887.1\n",
       "Date:                Tue, 21 Nov 2017   Prob (F-statistic):               0.00\n",
       "Time:                        20:54:44   Log-Likelihood:                -20511.\n",
       "No. Observations:               20908   AIC:                         4.103e+04\n",
       "Df Residuals:                   20905   BIC:                         4.105e+04\n",
       "Df Model:                           2                                         \n",
       "Covariance Type:            nonrobust                                         \n",
       "==============================================================================\n",
       "                 coef    std err          t      P>|t|      [0.025      0.975]\n",
       "------------------------------------------------------------------------------\n",
       "const         13.5297      0.011   1248.081      0.000      13.508      13.551\n",
       "BL         -4.898e-05   1.19e-06    -41.218      0.000   -5.13e-05   -4.66e-05\n",
       "LS          3.586e-05   2.67e-06     13.414      0.000    3.06e-05    4.11e-05\n",
       "==============================================================================\n",
       "Omnibus:                     1158.921   Durbin-Watson:                   1.998\n",
       "Prob(Omnibus):                  0.000   Jarque-Bera (JB):             4458.225\n",
       "Skew:                          -0.129   Prob(JB):                         0.00\n",
       "Kurtosis:                       5.247   Cond. No.                     1.80e+04\n",
       "==============================================================================\n",
       "\n",
       "Warnings:\n",
       "[1] Standard Errors assume that the covariance matrix of the errors is correctly specified.\n",
       "[2] The condition number is large, 1.8e+04. This might indicate that there are\n",
       "strong multicollinearity or other numerical problems.\n",
       "\"\"\""
      ]
     },
     "execution_count": 18,
     "metadata": {},
     "output_type": "execute_result"
    }
   ],
   "source": [
    "Z = df2['SP']\n",
    "Y = df2[['BL','LS']]\n",
    "Y = sm.add_constant(Y)\n",
    "\n",
    "model = sm.OLS(Z,Y)\n",
    "results = model.fit()\n",
    "results.summary()"
   ]
  },
  {
   "cell_type": "markdown",
   "metadata": {},
   "source": [
    "Também existe regressão para o LSQ"
   ]
  },
  {
   "cell_type": "markdown",
   "metadata": {},
   "source": [
    "Histogrtama de erros com o amostral:"
   ]
  },
  {
   "cell_type": "markdown",
   "metadata": {},
   "source": [
    "$$e=(\\hat{y}-yi)$$"
   ]
  },
  {
   "cell_type": "code",
   "execution_count": 19,
   "metadata": {
    "collapsed": false
   },
   "outputs": [
    {
     "data": {
      "text/plain": [
       "<matplotlib.axes._subplots.AxesSubplot at 0x22abbd36438>"
      ]
     },
     "execution_count": 19,
     "metadata": {},
     "output_type": "execute_result"
    },
    {
     "data": {
      "image/png": "[encoded data removed]",
      "text/plain": [
       "<matplotlib.figure.Figure at 0x22ab812b710>"
      ]
     },
     "metadata": {},
     "output_type": "display_data"
    }
   ],
   "source": [
    "E =  (3.783e-05-4.887e-05+13.5195) - df42.PRICE\n",
    "E.hist(normed=True)"
   ]
  },
  {
   "cell_type": "code",
   "execution_count": null,
   "metadata": {
    "collapsed": true
   },
   "outputs": [],
   "source": []
  },
  {
   "cell_type": "code",
   "execution_count": null,
   "metadata": {
    "collapsed": true
   },
   "outputs": [],
   "source": []
  }
 ],
 "metadata": {
  "kernelspec": {
   "display_name": "Python 3",
   "language": "python",
   "name": "python3"
  },
  "language_info": {
   "codemirror_mode": {
    "name": "ipython",
    "version": 3
   },
   "file_extension": ".py",
   "mimetype": "text/x-python",
   "name": "python",
   "nbconvert_exporter": "python",
   "pygments_lexer": "ipython3",
   "version": "3.6.0"
  }
 },
 "nbformat": 4,
 "nbformat_minor": 2
}
