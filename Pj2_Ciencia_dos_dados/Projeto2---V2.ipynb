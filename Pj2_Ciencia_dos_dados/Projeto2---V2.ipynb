{
 "cells": [
  {
   "cell_type": "markdown",
   "metadata": {},
   "source": [
    "# Projeto 2 - Classificador Automático de Sentimento\n",
    "\n",
    "Você foi contratado por uma empresa parar analisar como os clientes estão reagindo a um determinado produto no Twitter. A empresa deseja que você crie um programa que irá analisar as mensagens disponíveis e classificará como \"relevante\" ou \"irrelevante\". Com isso ela deseja que mensagens negativas, que denigrem o nome do produto, ou que mereçam destaque, disparem um foco de atenção da área de marketing.<br /><br />\n",
    "Como aluno de Ciência dos Dados, você lembrou do Teorema de Bayes, mais especificamente do Classificador Naive-Bayes, que é largamente utilizado em filtros anti-spam de e-mails. O classificador permite calcular qual a probabilidade de uma mensagem ser relevante dadas as palavras em seu conteúdo.<br /><br />\n",
    "Para realizar o MVP (*minimum viable product*) do projeto, você precisa implementar uma versão do classificador que \"aprende\" o que é relevante com uma base de treinamento e compara a performance dos resultados com uma base de testes.<br /><br />\n",
    "Após validado, o seu protótipo poderá também capturar e classificar automaticamente as mensagens da plataforma.\n",
    "\n",
    "## Informações do Projeto\n",
    "\n",
    "Prazo: 13/Set até às 23:59.<br />\n",
    "Grupo: 1 ou 2 pessoas.<br /><br />\n",
    "Entregáveis via GitHub: \n",
    "* Arquivo notebook com o código do classificador, seguindo as orientações abaixo.\n",
    "* Arquivo Excel com as bases de treinamento e teste totalmente classificado.\n",
    "\n",
    "**NÃO disponibilizar o arquivo com os *access keys/tokens* do Twitter.**\n",
    "\n",
    "\n",
    "### Check 3: \n",
    "\n",
    "Até o dia 06 de Setembro às 23:59, o notebook e o xlsx devem estar no Github com as seguintes evidências: \n",
    "    * Conta no twitter criada.\n",
    "    * Produto escolhido.\n",
    "    * Arquivo Excel contendo a base de treinamento e teste já classificado.\n",
    "\n",
    "Sugestão de leitura:<br />\n",
    "http://docs.tweepy.org/en/v3.5.0/index.html<br />\n",
    "https://monkeylearn.com/blog/practical-explanation-naive-bayes-classifier/"
   ]
  },
  {
   "cell_type": "markdown",
   "metadata": {},
   "source": [
    "___\n",
    "\n",
    "## Preparando o ambiente\n",
    "\n",
    "Instalando a biblioteca *tweepy* para realizar a conexão com o Twitter:"
   ]
  },
  {
   "cell_type": "code",
   "execution_count": 396,
   "metadata": {
    "collapsed": true
   },
   "outputs": [],
   "source": [
    "%%capture\n",
    "\n",
    "#Instalando o tweepy\n",
    "!pip install tweepy"
   ]
  },
  {
   "cell_type": "markdown",
   "metadata": {},
   "source": [
    "Importando as Bibliotecas que serão utilizadas. Esteja livre para adicionar outras."
   ]
  },
  {
   "cell_type": "code",
   "execution_count": 397,
   "metadata": {
    "collapsed": true
   },
   "outputs": [],
   "source": [
    "import tweepy\n",
    "import math\n",
    "import os.path\n",
    "import pandas as pd\n",
    "import json\n",
    "from random import shuffle\n",
    "%matplotlib inline\n",
    "\n",
    "import matplotlib.pyplot as plt\n",
    "import numpy as np\n",
    "import os\n",
    "import string\n",
    "\n"
   ]
  },
  {
   "cell_type": "markdown",
   "metadata": {},
   "source": [
    "___\n",
    "## Autenticando no  Twitter\n",
    "\n",
    "Para realizar a captura dos dados é necessário ter uma conta cadastrada no twitter:\n",
    "\n",
    "* Conta: ***[Preencha aqui o id da sua conta. Ex: @fulano ]***\n",
    "\n",
    "\n",
    "1. Caso ainda não tenha uma: https://twitter.com/signup\n",
    "1. Depois é necessário registrar um app para usar a biblioteca: https://apps.twitter.com/\n",
    "1. Dentro do registro do App, na aba Keys and Access Tokens, anotar os seguintes campos:\n",
    "    1. Consumer Key (API Key)\n",
    "    1. Consumer Secret (API Secret)\n",
    "1. Mais abaixo, gere um Token e anote também:\n",
    "    1. Access Token\n",
    "    1. Access Token Secret\n",
    "    \n",
    "1. Preencha os valores no arquivo \"auth.pass\"\n",
    "\n",
    "**ATENÇÃO**: Nunca divulgue os dados desse arquivo online (GitHub, etc). Ele contém as chaves necessárias para realizar as operações no twitter de forma automática e portanto é equivalente a ser \"hackeado\". De posse desses dados, pessoas mal intencionadas podem fazer todas as operações manuais (tweetar, seguir, bloquear/desbloquear, listar os seguidores, etc). Para efeito do projeto, esse arquivo não precisa ser entregue!!!"
   ]
  },
  {
   "cell_type": "code",
   "execution_count": 362,
   "metadata": {},
   "outputs": [
    {
     "ename": "FileNotFoundError",
     "evalue": "[Errno 2] No such file or directory: 'auth.pass'",
     "output_type": "error",
     "traceback": [
      "\u001b[1;31m---------------------------------------------------------------------------\u001b[0m",
      "\u001b[1;31mFileNotFoundError\u001b[0m                         Traceback (most recent call last)",
      "\u001b[1;32m<ipython-input-362-71cd346a41cc>\u001b[0m in \u001b[0;36m<module>\u001b[1;34m()\u001b[0m\n\u001b[0;32m      4\u001b[0m \u001b[1;33m\u001b[0m\u001b[0m\n\u001b[0;32m      5\u001b[0m \u001b[1;31m#leitura do arquivo no formato JSON\u001b[0m\u001b[1;33m\u001b[0m\u001b[1;33m\u001b[0m\u001b[0m\n\u001b[1;32m----> 6\u001b[1;33m \u001b[1;32mwith\u001b[0m \u001b[0mopen\u001b[0m\u001b[1;33m(\u001b[0m\u001b[1;34m'auth.pass'\u001b[0m\u001b[1;33m)\u001b[0m \u001b[1;32mas\u001b[0m \u001b[0mfp\u001b[0m\u001b[1;33m:\u001b[0m\u001b[1;33m\u001b[0m\u001b[0m\n\u001b[0m\u001b[0;32m      7\u001b[0m     \u001b[0mdata\u001b[0m \u001b[1;33m=\u001b[0m \u001b[0mjson\u001b[0m\u001b[1;33m.\u001b[0m\u001b[0mload\u001b[0m\u001b[1;33m(\u001b[0m\u001b[0mfp\u001b[0m\u001b[1;33m)\u001b[0m\u001b[1;33m\u001b[0m\u001b[0m\n\u001b[0;32m      8\u001b[0m \u001b[1;33m\u001b[0m\u001b[0m\n",
      "\u001b[1;31mFileNotFoundError\u001b[0m: [Errno 2] No such file or directory: 'auth.pass'"
     ]
    }
   ],
   "source": [
    "#Dados de autenticação do twitter:\n",
    "\n",
    "#Coloque aqui o identificador da conta no twitter: @fulano\n",
    "\n",
    "#leitura do arquivo no formato JSON\n",
    "with open('auth.pass') as fp:    \n",
    "    data = json.load(fp)\n",
    "\n",
    "#Configurando a biblioteca. Não modificar\n",
    "auth = tweepy.OAuthHandler(data['consumer_key'], data['consumer_secret'])\n",
    "auth.set_access_token(data['access_token'], data['access_token_secret'])"
   ]
  },
  {
   "cell_type": "markdown",
   "metadata": {},
   "source": [
    "___\n",
    "## Coletando Dados\n",
    "\n",
    "Agora vamos coletar os dados. Tenha em mente que dependendo do produto escolhido, não haverá uma quantidade significativa de mensagens, ou ainda poder haver muitos retweets.<br /><br /> \n",
    "Configurando:"
   ]
  },
  {
   "cell_type": "code",
   "execution_count": 363,
   "metadata": {
    "collapsed": true
   },
   "outputs": [],
   "source": [
    "#Produto escolhido:\n",
    "produto = 'PUBG'\n",
    "\n",
    "#Quantidade mínima de mensagens capturadas:\n",
    "n = 500\n",
    "#Quantidade mínima de mensagens para a base de treinamento:\n",
    "t = 300\n",
    "\n",
    "#Filtro de língua, escolha uma na tabela ISO 639-1.\n",
    "lang = 'pt'"
   ]
  },
  {
   "cell_type": "markdown",
   "metadata": {},
   "source": [
    "Capturando os dados do twitter:"
   ]
  },
  {
   "cell_type": "code",
   "execution_count": null,
   "metadata": {},
   "outputs": [],
   "source": [
    "#Cria um objeto para a captura\n",
    "api = tweepy.API(auth)\n",
    "\n",
    "#Inicia a captura, para mais detalhes: ver a documentação do tweepy\n",
    "i = 1\n",
    "msgs = []\n",
    "for msg in tweepy.Cursor(api.search, q=produto, lang=lang).items():    \n",
    "    msgs.append(msg.text.lower())\n",
    "    i += 1\n",
    "    if i > n:\n",
    "        break\n",
    "\n",
    "#Embaralhando as mensagens para reduzir um possível viés\n",
    "shuffle(msgs)"
   ]
  },
  {
   "cell_type": "markdown",
   "metadata": {},
   "source": [
    "Salvando os dados em uma planilha Excel:"
   ]
  },
  {
   "cell_type": "code",
   "execution_count": null,
   "metadata": {},
   "outputs": [],
   "source": [
    "#Verifica se o arquivo não existe para não substituir um conjunto pronto\n",
    "if not os.path.isfile('./{0}.xlsx'.format(produto)):\n",
    "    \n",
    "    #Abre o arquivo para escrita\n",
    "    writer = pd.ExcelWriter('{0}.xlsx'.format(produto))\n",
    "\n",
    "    #divide o conjunto de mensagens em duas planilhas\n",
    "    dft = pd.DataFrame({'Treinamento' : pd.Series(msgs[:t])})\n",
    "    dft.to_excel(excel_writer = writer, sheet_name = 'Treinamento', index = False)\n",
    "\n",
    "    dfc = pd.DataFrame({'Teste' : pd.Series(msgs[t:])})\n",
    "    dfc.to_excel(excel_writer = writer, sheet_name = 'Teste', index = False)\n",
    "\n",
    "    #fecha o arquivo\n",
    "    writer.save()"
   ]
  },
  {
   "cell_type": "markdown",
   "metadata": {},
   "source": [
    "___\n",
    "## Classificando as Mensagens\n",
    "\n",
    "Agora você deve abrir o arquivo Excel com as mensagens capturadas e classificar na Coluna B se a mensagem é relevante ou não.<br /> \n",
    "Não se esqueça de colocar um nome para a coluna na célula **B1**.<br /><br />\n",
    "Fazer o mesmo na planilha de Controle.\n",
    "\n",
    "___\n",
    "## Montando o Classificador Naive-Bayes\n",
    "\n",
    "Com a base de treinamento montada, comece a desenvolver o classificador. Escreva o seu código abaixo:\n",
    "\n",
    "Opcionalmente: \n",
    "* Limpar as mensagens removendo os caracteres: enter, :, \", ', (, ), etc. Não remover emojis.<br />\n",
    "* Corrigir separação de espaços entre palavras e/ou emojis.\n",
    "* Propor outras limpezas/transformações que não afetem a qualidade da informação.\n",
    "\n"
   ]
  },
  {
   "cell_type": "code",
   "execution_count": 398,
   "metadata": {},
   "outputs": [],
   "source": [
    "#primeiro passo, converter em uma tabela de frequencia\n",
    "\n",
    "dados=pd.read_excel('PUBG.xlsx')\n"
   ]
  },
  {
   "cell_type": "code",
   "execution_count": 399,
   "metadata": {},
   "outputs": [
    {
     "data": {
      "text/html": [
       "<div>\n",
       "<style>\n",
       "    .dataframe thead tr:only-child th {\n",
       "        text-align: right;\n",
       "    }\n",
       "\n",
       "    .dataframe thead th {\n",
       "        text-align: left;\n",
       "    }\n",
       "\n",
       "    .dataframe tbody tr th {\n",
       "        vertical-align: top;\n",
       "    }\n",
       "</style>\n",
       "<table border=\"1\" class=\"dataframe\">\n",
       "  <thead>\n",
       "    <tr style=\"text-align: right;\">\n",
       "      <th></th>\n",
       "      <th>Treinamento</th>\n",
       "      <th>Relevancia</th>\n",
       "    </tr>\n",
       "  </thead>\n",
       "  <tbody>\n",
       "    <tr>\n",
       "      <th>0</th>\n",
       "      <td>live! bora jogar?\\nhttps://t.co/r7byt6hstd\\n#l...</td>\n",
       "      <td>Irrelevante</td>\n",
       "    </tr>\n",
       "    <tr>\n",
       "      <th>1</th>\n",
       "      <td>assistindo o menino @tecnoshlol para ficar bom...</td>\n",
       "      <td>Relevante</td>\n",
       "    </tr>\n",
       "    <tr>\n",
       "      <th>2</th>\n",
       "      <td>rt @videogamerzbr: sorteio de uma key de battl...</td>\n",
       "      <td>Irrelevante</td>\n",
       "    </tr>\n",
       "    <tr>\n",
       "      <th>3</th>\n",
       "      <td>pubg time via restream.io</td>\n",
       "      <td>Irrelevante</td>\n",
       "    </tr>\n",
       "    <tr>\n",
       "      <th>4</th>\n",
       "      <td>rt @otiozero: último dia de pubg no canal! vem...</td>\n",
       "      <td>Irrelevante</td>\n",
       "    </tr>\n",
       "  </tbody>\n",
       "</table>\n",
       "</div>"
      ],
      "text/plain": [
       "                                         Treinamento   Relevancia\n",
       "0  live! bora jogar?\\nhttps://t.co/r7byt6hstd\\n#l...  Irrelevante\n",
       "1  assistindo o menino @tecnoshlol para ficar bom...    Relevante\n",
       "2  rt @videogamerzbr: sorteio de uma key de battl...  Irrelevante\n",
       "3                          pubg time via restream.io  Irrelevante\n",
       "4  rt @otiozero: último dia de pubg no canal! vem...  Irrelevante"
      ]
     },
     "execution_count": 399,
     "metadata": {},
     "output_type": "execute_result"
    }
   ],
   "source": [
    "dados.head()"
   ]
  },
  {
   "cell_type": "code",
   "execution_count": 400,
   "metadata": {},
   "outputs": [
    {
     "data": {
      "text/html": [
       "<div>\n",
       "<style>\n",
       "    .dataframe thead tr:only-child th {\n",
       "        text-align: right;\n",
       "    }\n",
       "\n",
       "    .dataframe thead th {\n",
       "        text-align: left;\n",
       "    }\n",
       "\n",
       "    .dataframe tbody tr th {\n",
       "        vertical-align: top;\n",
       "    }\n",
       "</style>\n",
       "<table border=\"1\" class=\"dataframe\">\n",
       "  <thead>\n",
       "    <tr style=\"text-align: right;\">\n",
       "      <th></th>\n",
       "      <th>Treinamento</th>\n",
       "      <th>Relevancia</th>\n",
       "    </tr>\n",
       "  </thead>\n",
       "  <tbody>\n",
       "    <tr>\n",
       "      <th>0</th>\n",
       "      <td>live bora jogarhttps: t co rbythstd#live #stre...</td>\n",
       "      <td>Irrelevante</td>\n",
       "    </tr>\n",
       "    <tr>\n",
       "      <th>1</th>\n",
       "      <td>assistindo menino @tecnoshlol para ficar bom #...</td>\n",
       "      <td>Relevante</td>\n",
       "    </tr>\n",
       "    <tr>\n",
       "      <th>2</th>\n",
       "      <td>rt @videogamerzbr: sorteio uma key battlegroun...</td>\n",
       "      <td>Irrelevante</td>\n",
       "    </tr>\n",
       "    <tr>\n",
       "      <th>3</th>\n",
       "      <td>pubg time via restream io</td>\n",
       "      <td>Irrelevante</td>\n",
       "    </tr>\n",
       "    <tr>\n",
       "      <th>4</th>\n",
       "      <td>rt @otiozero: último dia pubg canal vemhttps: ...</td>\n",
       "      <td>Irrelevante</td>\n",
       "    </tr>\n",
       "  </tbody>\n",
       "</table>\n",
       "</div>"
      ],
      "text/plain": [
       "                                         Treinamento   Relevancia\n",
       "0  live bora jogarhttps: t co rbythstd#live #stre...  Irrelevante\n",
       "1  assistindo menino @tecnoshlol para ficar bom #...    Relevante\n",
       "2  rt @videogamerzbr: sorteio uma key battlegroun...  Irrelevante\n",
       "3                          pubg time via restream io  Irrelevante\n",
       "4  rt @otiozero: último dia pubg canal vemhttps: ...  Irrelevante"
      ]
     },
     "execution_count": 400,
     "metadata": {},
     "output_type": "execute_result"
    }
   ],
   "source": [
    "# mensagens removendo os caracteres: enter, :, \", ', (, ), etc. Sem remover emojis.  ; \n",
    "#limpezas/transformações que não afetem a qualidade da informação\n",
    "dados['Treinamento'] = dados['Treinamento'].str.replace(\"  \",\" \")\n",
    "dados['Treinamento'] = dados['Treinamento'].str.replace(\"\\n\",\"\")\n",
    "dados['Treinamento'] = dados['Treinamento'].str.replace(\"!\",\"\")\n",
    "dados['Treinamento'] = dados['Treinamento'].str.replace(\"?\",\"\")\n",
    "dados['Treinamento'] = dados['Treinamento'].str.replace(\")\",\"\")\n",
    "dados['Treinamento'] = dados['Treinamento'].str.replace(\"(\",\"\")\n",
    "dados['Treinamento'] = dados['Treinamento'].str.replace(\" a \",\" \")\n",
    "dados['Treinamento'] = dados['Treinamento'].str.replace(\" as \",\" \")\n",
    "dados['Treinamento'] = dados['Treinamento'].str.replace(\" o \",\" \")\n",
    "dados['Treinamento'] = dados['Treinamento'].str.replace(\" os \",\" \")\n",
    "dados['Treinamento'] = dados['Treinamento'].str.replace(' é ',' ')\n",
    "dados['Treinamento'] = dados['Treinamento'].str.replace(' a ',' ')\n",
    "dados['Treinamento'] = dados['Treinamento'].str.replace(' o ',' ')\n",
    "dados['Treinamento'] = dados['Treinamento'].str.replace(' e ',' ')\n",
    "dados['Treinamento'] = dados['Treinamento'].str.replace(' os ',' ')\n",
    "dados['Treinamento'] = dados['Treinamento'].str.replace(' as ',' ')\n",
    "dados['Treinamento'] = dados['Treinamento'].str.replace(' ou ',' ')\n",
    "dados['Treinamento'] = dados['Treinamento'].str.replace(' que ',' ')\n",
    "dados['Treinamento'] = dados['Treinamento'].str.replace(' nas ',' ')\n",
    "dados['Treinamento'] = dados['Treinamento'].str.replace(' na ',' ')\n",
    "dados['Treinamento'] = dados['Treinamento'].str.replace(' no ',' ')\n",
    "dados['Treinamento'] = dados['Treinamento'].str.replace(' nos ',' ')\n",
    "dados['Treinamento'] = dados['Treinamento'].str.replace(' de ',' ')\n",
    "dados['Treinamento'] = dados['Treinamento'].str.replace(' dos ',' ')\n",
    "dados['Treinamento'] = dados['Treinamento'].str.replace(' das ',' ')\n",
    "dados['Treinamento'] = dados['Treinamento'].str.replace(' da ',' ')\n",
    "dados['Treinamento'] = dados['Treinamento'].str.replace(' do ',' ')\n",
    "dados['Treinamento'] = dados['Treinamento'].str.replace('1','')\n",
    "dados['Treinamento'] = dados['Treinamento'].str.replace('2','')\n",
    "dados['Treinamento'] = dados['Treinamento'].str.replace('3','')\n",
    "dados['Treinamento'] = dados['Treinamento'].str.replace('4','')\n",
    "dados['Treinamento'] = dados['Treinamento'].str.replace('5','')\n",
    "dados['Treinamento'] = dados['Treinamento'].str.replace('6','')\n",
    "dados['Treinamento'] = dados['Treinamento'].str.replace('7','')\n",
    "dados['Treinamento'] = dados['Treinamento'].str.replace('8','')\n",
    "dados['Treinamento'] = dados['Treinamento'].str.replace('9','')\n",
    "dados['Treinamento'] = dados['Treinamento'].str.replace('0','')\n",
    "dados['Treinamento'] = dados['Treinamento'].str.replace('?','')\n",
    "dados['Treinamento'] = dados['Treinamento'].str.replace('!','')\n",
    "dados['Treinamento'] = dados['Treinamento'].str.replace('|','')\n",
    "dados['Treinamento'] = dados['Treinamento'].str.replace('/',' ')\n",
    "dados['Treinamento'] = dados['Treinamento'].str.replace('.',' ')\n",
    "dados['Treinamento'] = dados['Treinamento'].str.replace('  ',' ')\n",
    "dados['Treinamento'] = dados['Treinamento'].str.lower()\n",
    "dados.head()"
   ]
  },
  {
   "cell_type": "code",
   "execution_count": 401,
   "metadata": {},
   "outputs": [],
   "source": [
    "#Importa excel e filtra em dados relevantes e irrelevantes\n",
    "dados2=dados\n",
    "dados2=dados2.iloc[:,[0,1]]\n",
    "relevantesDados2=dados2[(dados2.Relevancia==\"Relevante\")]\n",
    "irrelevanteDados2=dados2[(dados2.Relevancia==\"Irrelevante\")]\n",
    "\n",
    "\n",
    "# Passa o conteudo de cada frase pra uma lista\n",
    "\n",
    "# relevantes\n",
    "relevanteslinhas=relevantesDados2.shape\n",
    "relevanteslinhas=relevanteslinhas[0]\n",
    "z=0\n",
    "relevante=[]\n",
    "while z<relevanteslinhas:\n",
    "    cell=relevantesDados2.iloc[[z],[0]]\n",
    "    cell=str(cell)\n",
    "    relevante.append(cell)\n",
    "    z=z+1\n",
    "\n",
    "    \n",
    "# irrelevantes\n",
    "irrelevantelinhas=irrelevanteDados2.shape\n",
    "irrelevantelinhas=irrelevantelinhas[0]\n",
    "c=0\n",
    "irrelevante=[]\n",
    "while c<irrelevantelinhas:\n",
    "    cell=irrelevanteDados2.iloc[[c],[0]]\n",
    "    cell=str(cell)\n",
    "    irrelevante.append(cell)\n",
    "    c=c+1"
   ]
  },
  {
   "cell_type": "code",
   "execution_count": 402,
   "metadata": {},
   "outputs": [
    {
     "name": "stderr",
     "output_type": "stream",
     "text": [
      "C:\\Users\\andra\\Anaconda3\\lib\\site-packages\\ipykernel_launcher.py:2: SettingWithCopyWarning: \n",
      "A value is trying to be set on a copy of a slice from a DataFrame.\n",
      "Try using .loc[row_indexer,col_indexer] = value instead\n",
      "\n",
      "See the caveats in the documentation: http://pandas.pydata.org/pandas-docs/stable/indexing.html#indexing-view-versus-copy\n",
      "  \n"
     ]
    }
   ],
   "source": [
    "# separação de espaços entre palavras e/ou emojis\n",
    "relevantesDados2['Treinamento']=relevantesDados2['Treinamento'].str.split(pat=None,n=-1,expand=False)\n",
    "relevantesDados2=relevantesDados2['Treinamento'].sum(axis=None, skipna=None, level=None, numeric_only=None)\n",
    "\n",
    "\n",
    "relevantesdic={}\n",
    "z=0\n",
    "while z<len(relevantesDados2):\n",
    "    if relevantesDados2[z] in relevantesdic:\n",
    "        relevantesdic[relevantesDados2[z]]=relevantesdic[relevantesDados2[z]]+1\n",
    "    else:\n",
    "        relevantesdic[relevantesDados2[z]]=1\n",
    "    z=z+1\n"
   ]
  },
  {
   "cell_type": "code",
   "execution_count": 403,
   "metadata": {},
   "outputs": [
    {
     "name": "stderr",
     "output_type": "stream",
     "text": [
      "C:\\Users\\andra\\Anaconda3\\lib\\site-packages\\ipykernel_launcher.py:2: SettingWithCopyWarning: \n",
      "A value is trying to be set on a copy of a slice from a DataFrame.\n",
      "Try using .loc[row_indexer,col_indexer] = value instead\n",
      "\n",
      "See the caveats in the documentation: http://pandas.pydata.org/pandas-docs/stable/indexing.html#indexing-view-versus-copy\n",
      "  \n"
     ]
    }
   ],
   "source": [
    "# separação de espaços entre palavras e/ou emojis\n",
    "irrelevanteDados2['Treinamento']=irrelevanteDados2['Treinamento'].str.split(pat=None,n=-1,expand=False)\n",
    "irrelevanteDados2=irrelevanteDados2['Treinamento'].sum(axis=None, skipna=None, level=None, numeric_only=None)\n",
    "\n",
    "irrelevantedic={}\n",
    "c=0\n",
    "while c<len(irrelevanteDados2):\n",
    "    if irrelevanteDados2[c] in irrelevantedic:\n",
    "        irrelevantedic[irrelevanteDados2[c]]=irrelevantedic[irrelevanteDados2[c]]+1\n",
    "    else:\n",
    "        irrelevantedic[irrelevanteDados2[c]]=1\n",
    "    c=c+1"
   ]
  },
  {
   "cell_type": "code",
   "execution_count": 404,
   "metadata": {
    "collapsed": true
   },
   "outputs": [],
   "source": [
    "#Contando a quantidade de palavras de cada dicionario\n",
    "palavrasrelevantes=len(relevantesdic.keys())\n",
    "palavrasirrelevantes=len(irrelevantedic.keys())\n",
    "palavrastotal=palavrasrelevantes+palavrasirrelevantes"
   ]
  },
  {
   "cell_type": "code",
   "execution_count": 405,
   "metadata": {},
   "outputs": [],
   "source": [
    "#P(A)=número de tweets que pertencem à categoria pelo total de tweets no dataframe\n",
    "totaltweetsrelevantes=len(relevantesDados2)\n",
    "totaltweetsirrelevantes=len(irrelevanteDados2)\n",
    "pA=totaltweetsrelevantes/300\n",
    "pnotA=palavrastotal/300\n"
   ]
  },
  {
   "cell_type": "code",
   "execution_count": 406,
   "metadata": {
    "collapsed": true
   },
   "outputs": [],
   "source": [
    "# Probabilidade de de cada palavra dado que ela pertence a seu conjunto (P(B|A))\n",
    "for i in relevantesdic:\n",
    "    relevantesdic[i]=(relevantesdic[i]+1)/(palavrasrelevantes+palavrastotal)\n",
    "for i in irrelevantedic:\n",
    "    irrelevantedic[i]=(irrelevantedic[i]+1)/(palavrasirrelevantes+palavrastotal)"
   ]
  },
  {
   "cell_type": "code",
   "execution_count": 407,
   "metadata": {
    "collapsed": true
   },
   "outputs": [],
   "source": [
    "#Definindo a função que classifica uma dada frase\n",
    "def classificador(frase):\n",
    "    palavras=frase.split(\" \")\n",
    "    c=0\n",
    "    palavrasrelevantes=1\n",
    "    palavrasirrelevantes=1\n",
    "    while c<len(palavras):\n",
    "        if palavras[c] in relevantesdic:\n",
    "            palavrasrelevantes=palavrasrelevantes*relevantesdic[palavras[c]]\n",
    "        else:\n",
    "            palavrasrelevantes=palavrasrelevantes*(1/palavrastotal)\n",
    "        c=c+1\n",
    "    #Multiplica resultado (P(B|A)) por P(A)\n",
    "    palavrasrelevantes=palavrasrelevantes*pA\n",
    "    c=0\n",
    "    while c<len(palavras):\n",
    "        if palavras[c] in irrelevantedic:\n",
    "            palavrasirrelevantes=palavrasirrelevantes*irrelevantedic[palavras[c]]\n",
    "        else:\n",
    "            palavrasirrelevantes=palavrasirrelevantes*(1/palavrastotal)\n",
    "        c=c+1\n",
    "    palavrasirrelevantes=palavrasirrelevantes*pnotA\n",
    "    if palavrasrelevantes>palavrasirrelevantes:\n",
    "        return [\"Relevante\",palavrasrelevantes,palavrasirrelevantes]\n",
    "    else:\n",
    "        return [\"Irrelevante\",palavrasrelevantes,palavrasirrelevantes]"
   ]
  },
  {
   "cell_type": "markdown",
   "metadata": {},
   "source": [
    "___\n",
    "## Verificando a performance\n",
    "\n",
    "Agora você deve testar o seu Classificador com a base de Testes.<br /><br /> \n",
    "\n",
    "Você deve extrair as seguintes medidas:\n",
    "* Porcentagem de positivos falsos (marcados como relevante mas não são relevantes)\n",
    "* Porcentagem de positivos verdadeiros (marcado como relevante e são relevantes)\n",
    "* Porcentagem de negativos verdadeiros (marcado como não relevante e não são relevantes)\n",
    "* Porcentagem de negativos falsos (marcado como não relevante e são relevantes)\n",
    "\n",
    "Opcionalmente:\n",
    "* Criar categorias intermediárias de relevância baseado na diferença de probabilidades. Exemplo: muito relevante, relevante, neutro, irrelevante e muito irrelevante."
   ]
  },
  {
   "cell_type": "code",
   "execution_count": 408,
   "metadata": {},
   "outputs": [
    {
     "data": {
      "text/html": [
       "<div>\n",
       "<style>\n",
       "    .dataframe thead tr:only-child th {\n",
       "        text-align: right;\n",
       "    }\n",
       "\n",
       "    .dataframe thead th {\n",
       "        text-align: left;\n",
       "    }\n",
       "\n",
       "    .dataframe tbody tr th {\n",
       "        vertical-align: top;\n",
       "    }\n",
       "</style>\n",
       "<table border=\"1\" class=\"dataframe\">\n",
       "  <thead>\n",
       "    <tr style=\"text-align: right;\">\n",
       "      <th></th>\n",
       "      <th>Teste</th>\n",
       "      <th>Relevancia</th>\n",
       "    </tr>\n",
       "  </thead>\n",
       "  <tbody>\n",
       "    <tr>\n",
       "      <th>0</th>\n",
       "      <td>minha vida acabou há uma semana, quando conhec...</td>\n",
       "      <td>Relevante</td>\n",
       "    </tr>\n",
       "    <tr>\n",
       "      <th>1</th>\n",
       "      <td>jogando um jogo novo steam \"argo\" logo mais pu...</td>\n",
       "      <td>Relevante</td>\n",
       "    </tr>\n",
       "    <tr>\n",
       "      <th>2</th>\n",
       "      <td>estou em live com mata #pubg https: t co qsshg...</td>\n",
       "      <td>Irrelevante</td>\n",
       "    </tr>\n",
       "    <tr>\n",
       "      <th>3</th>\n",
       "      <td>gostei um vídeo @youtubegaming https: t co drq...</td>\n",
       "      <td>Irrelevante</td>\n",
       "    </tr>\n",
       "    <tr>\n",
       "      <th>4</th>\n",
       "      <td>quem quer jogar pubg cmg</td>\n",
       "      <td>Relevante</td>\n",
       "    </tr>\n",
       "  </tbody>\n",
       "</table>\n",
       "</div>"
      ],
      "text/plain": [
       "                                               Teste   Relevancia\n",
       "0  minha vida acabou há uma semana, quando conhec...    Relevante\n",
       "1  jogando um jogo novo steam \"argo\" logo mais pu...    Relevante\n",
       "2  estou em live com mata #pubg https: t co qsshg...  Irrelevante\n",
       "3  gostei um vídeo @youtubegaming https: t co drq...  Irrelevante\n",
       "4                           quem quer jogar pubg cmg    Relevante"
      ]
     },
     "execution_count": 408,
     "metadata": {},
     "output_type": "execute_result"
    }
   ],
   "source": [
    "testedados=pd.read_excel(\"PUBG.xlsx\", sheetname = \"Teste\")\n",
    "testedados=testedados.iloc[:,[0,1]]\n",
    "testedados['Teste'] = testedados['Teste'].str.replace(\"  \",\" \")\n",
    "testedados['Teste'] = testedados['Teste'].str.replace(\"\\n\",\"\")\n",
    "testedados['Teste'] = testedados['Teste'].str.replace(\"!\",\"\")\n",
    "testedados['Teste'] = testedados['Teste'].str.replace(\"?\",\"\")\n",
    "testedados['Teste'] = testedados['Teste'].str.replace(\")\",\"\")\n",
    "testedados['Teste'] = testedados['Teste'].str.replace(\"(\",\"\")\n",
    "testedados['Teste'] = testedados['Teste'].str.replace(\" a \",\" \")\n",
    "testedados['Teste'] = testedados['Teste'].str.replace(\" as \",\" \")\n",
    "testedados['Teste'] = testedados['Teste'].str.replace(\" o \",\" \")\n",
    "testedados['Teste'] = testedados['Teste'].str.replace(\" os \",\" \")\n",
    "testedados['Teste'] = testedados['Teste'].str.replace(' é ',' ')\n",
    "testedados['Teste'] = testedados['Teste'].str.replace(' a ',' ')\n",
    "testedados['Teste'] = testedados['Teste'].str.replace(' o ',' ')\n",
    "testedados['Teste'] = testedados['Teste'].str.replace(' e ',' ')\n",
    "testedados['Teste'] = testedados['Teste'].str.replace(' os ',' ')\n",
    "testedados['Teste'] = testedados['Teste'].str.replace(' as ',' ')\n",
    "testedados['Teste'] = testedados['Teste'].str.replace(' ou ',' ')\n",
    "testedados['Teste'] = testedados['Teste'].str.replace(' que ',' ')\n",
    "testedados['Teste'] = testedados['Teste'].str.replace(' nas ',' ')\n",
    "testedados['Teste'] = testedados['Teste'].str.replace(' na ',' ')\n",
    "testedados['Teste'] = testedados['Teste'].str.replace(' no ',' ')\n",
    "testedados['Teste'] = testedados['Teste'].str.replace(' nos ',' ')\n",
    "testedados['Teste'] = testedados['Teste'].str.replace(' de ',' ')\n",
    "testedados['Teste'] = testedados['Teste'].str.replace(' dos ',' ')\n",
    "testedados['Teste'] = testedados['Teste'].str.replace(' das ',' ')\n",
    "testedados['Teste'] = testedados['Teste'].str.replace(' da ',' ')\n",
    "testedados['Teste'] = testedados['Teste'].str.replace(' do ',' ')\n",
    "testedados['Teste'] = testedados['Teste'].str.replace('1','')\n",
    "testedados['Teste'] = testedados['Teste'].str.replace('2','')\n",
    "testedados['Teste'] = testedados['Teste'].str.replace('3','')\n",
    "testedados['Teste'] = testedados['Teste'].str.replace('4','')\n",
    "testedados['Teste'] = testedados['Teste'].str.replace('5','')\n",
    "testedados['Teste'] = testedados['Teste'].str.replace('6','')\n",
    "testedados['Teste'] = testedados['Teste'].str.replace('7','')\n",
    "testedados['Teste'] = testedados['Teste'].str.replace('8','')\n",
    "testedados['Teste'] = testedados['Teste'].str.replace('9','')\n",
    "testedados['Teste'] = testedados['Teste'].str.replace('0','')\n",
    "testedados['Teste'] = testedados['Teste'].str.replace('?','')\n",
    "testedados['Teste'] = testedados['Teste'].str.replace('!','')\n",
    "testedados['Teste'] = testedados['Teste'].str.replace('|','')\n",
    "testedados['Teste'] = testedados['Teste'].str.replace('/',' ')\n",
    "testedados['Teste'] = testedados['Teste'].str.replace('.',' ')\n",
    "testedados['Teste'] = testedados['Teste'].str.replace('  ',' ')\n",
    "testedados['Teste'] = testedados['Teste'].str.lower()\n",
    "testedados.head()\n",
    "# testedados['Relevancia']=testedados[\"Relevancia\"].astype('category')\n",
    "# testedados[\"Relevancia\"].cat.categories = [\"Relevante\", \"Irrelevante\"]"
   ]
  },
  {
   "cell_type": "code",
   "execution_count": 409,
   "metadata": {
    "scrolled": true
   },
   "outputs": [],
   "source": [
    "#Excel de teste e dataframe comparando a classificação humana com Naive-bayes\n",
    "tweets=testedados['Teste'].values.tolist()\n",
    "valores=testedados['Relevancia'].values.tolist()\n",
    "c=0\n",
    "naive=[]\n",
    "palavrasrelevantes1=[]\n",
    "palavrasirrelevantes1=[]\n",
    "# 200 tweets teste\n",
    "while c<205: \n",
    "    v=classificador(tweets[c])\n",
    "    naive.append(v[0])\n",
    "    palavrasrelevantes1.append(v[1])\n",
    "    palavrasirrelevantes1.append(v[2])\n",
    "    c=c+1\n",
    "c=0\n",
    "resultado=[]\n",
    "while c<205:\n",
    "    if valores[c]==naive[c] and valores[c]==\"Relevante\":\n",
    "        resultado.append(\"Positivo Verdadeiro\")\n",
    "    elif valores[c]!=naive[c] and valores[c]==\"Relevante\":\n",
    "        resultado.append(\"Negativo Falso\")\n",
    "    elif valores[c]==naive[c] and valores[c]==\"Irrelevante\":\n",
    "        resultado.append(\"Negativo Verdadeiro\")\n",
    "    elif valores[c]!=naive[c] and valores[c]==\"Irrelevante\":\n",
    "        resultado.append(\"Positivo Falso\")\n",
    "    c=c+1\n",
    "        \n",
    "resultados = pd.DataFrame({'Frases':tweets,'Humano':valores,'Naive':naive,'Resultado':resultado})"
   ]
  },
  {
   "cell_type": "code",
   "execution_count": 410,
   "metadata": {},
   "outputs": [
    {
     "data": {
      "text/html": [
       "<div>\n",
       "<style>\n",
       "    .dataframe thead tr:only-child th {\n",
       "        text-align: right;\n",
       "    }\n",
       "\n",
       "    .dataframe thead th {\n",
       "        text-align: left;\n",
       "    }\n",
       "\n",
       "    .dataframe tbody tr th {\n",
       "        vertical-align: top;\n",
       "    }\n",
       "</style>\n",
       "<table border=\"1\" class=\"dataframe\">\n",
       "  <thead>\n",
       "    <tr style=\"text-align: right;\">\n",
       "      <th></th>\n",
       "      <th>Frases</th>\n",
       "      <th>Humano</th>\n",
       "      <th>Naive</th>\n",
       "      <th>Resultado</th>\n",
       "    </tr>\n",
       "  </thead>\n",
       "  <tbody>\n",
       "    <tr>\n",
       "      <th>0</th>\n",
       "      <td>minha vida acabou há uma semana, quando conhec...</td>\n",
       "      <td>Relevante</td>\n",
       "      <td>Relevante</td>\n",
       "      <td>Positivo Verdadeiro</td>\n",
       "    </tr>\n",
       "    <tr>\n",
       "      <th>1</th>\n",
       "      <td>jogando um jogo novo steam \"argo\" logo mais pu...</td>\n",
       "      <td>Relevante</td>\n",
       "      <td>Irrelevante</td>\n",
       "      <td>Negativo Falso</td>\n",
       "    </tr>\n",
       "    <tr>\n",
       "      <th>2</th>\n",
       "      <td>estou em live com mata #pubg https: t co qsshg...</td>\n",
       "      <td>Irrelevante</td>\n",
       "      <td>Irrelevante</td>\n",
       "      <td>Negativo Verdadeiro</td>\n",
       "    </tr>\n",
       "    <tr>\n",
       "      <th>3</th>\n",
       "      <td>gostei um vídeo @youtubegaming https: t co drq...</td>\n",
       "      <td>Irrelevante</td>\n",
       "      <td>Irrelevante</td>\n",
       "      <td>Negativo Verdadeiro</td>\n",
       "    </tr>\n",
       "    <tr>\n",
       "      <th>4</th>\n",
       "      <td>quem quer jogar pubg cmg</td>\n",
       "      <td>Relevante</td>\n",
       "      <td>Relevante</td>\n",
       "      <td>Positivo Verdadeiro</td>\n",
       "    </tr>\n",
       "  </tbody>\n",
       "</table>\n",
       "</div>"
      ],
      "text/plain": [
       "                                              Frases       Humano  \\\n",
       "0  minha vida acabou há uma semana, quando conhec...    Relevante   \n",
       "1  jogando um jogo novo steam \"argo\" logo mais pu...    Relevante   \n",
       "2  estou em live com mata #pubg https: t co qsshg...  Irrelevante   \n",
       "3  gostei um vídeo @youtubegaming https: t co drq...  Irrelevante   \n",
       "4                           quem quer jogar pubg cmg    Relevante   \n",
       "\n",
       "         Naive            Resultado  \n",
       "0    Relevante  Positivo Verdadeiro  \n",
       "1  Irrelevante       Negativo Falso  \n",
       "2  Irrelevante  Negativo Verdadeiro  \n",
       "3  Irrelevante  Negativo Verdadeiro  \n",
       "4    Relevante  Positivo Verdadeiro  "
      ]
     },
     "execution_count": 410,
     "metadata": {},
     "output_type": "execute_result"
    }
   ],
   "source": [
    "resultados.head()"
   ]
  },
  {
   "cell_type": "code",
   "execution_count": 411,
   "metadata": {},
   "outputs": [
    {
     "data": {
      "text/plain": [
       "<matplotlib.axes._subplots.AxesSubplot at 0x214d558d080>"
      ]
     },
     "execution_count": 411,
     "metadata": {},
     "output_type": "execute_result"
    },
    {
     "data": {
      "image/png": "[encoded data removed]",
      "text/plain": [
       "<matplotlib.figure.Figure at 0x214d588c8d0>"
      ]
     },
     "metadata": {},
     "output_type": "display_data"
    }
   ],
   "source": [
    "Resultadoss=resposta.Resultado.value_counts(True)*100\n",
    "Resultadoss.plot(kind='pie',autopct=\"%0.1f\",legend=False)\n"
   ]
  },
  {
   "cell_type": "code",
   "execution_count": 412,
   "metadata": {
    "collapsed": true
   },
   "outputs": [],
   "source": [
    "#Criando classificações intermediárias, se dividirmos Palavras relevantes  por Palavras irrelevantes, podemos criar uma um faixa na qual podemos trabalhar a magnitude de cada frase \n",
    "c=0\n",
    "razao=[]\n",
    "while c<205:\n",
    "    razao.append(palavrasrelevantes1[c]/palavrasirrelevantes1[c])\n",
    "    c=c+1"
   ]
  },
  {
   "cell_type": "code",
   "execution_count": 413,
   "metadata": {
    "collapsed": true
   },
   "outputs": [],
   "source": [
    "#Classificamos a relevância dependendo da magnitude da razão\n",
    "c=0\n",
    "inter=[]\n",
    "while c<205:\n",
    "    if 0.5<razao[c] and razao[c]<5:\n",
    "        inter.append(\"Neutro\")\n",
    "    elif 10**-6<razao[c] and razao[c]<0.5:\n",
    "        inter.append(\"Irrelevante\")\n",
    "    elif 5<razao[c] and razao[c]<10**6:\n",
    "        inter.append(\"Relevante\")\n",
    "    elif razao[c]<=10**-6:\n",
    "        inter.append(\"Muito Irrelevante\")\n",
    "    elif 10**6<razao[c]:\n",
    "        inter.append(\"Muito Relevante\")\n",
    "    c=c+1\n",
    "probabilidades = pd.DataFrame({'Palavras relevantes':palavrasrelevantes1,'Palavras irrelevantes':palavrasirrelevantes1,'Pr/Pi':razao,'Classificacao':inter})"
   ]
  },
  {
   "cell_type": "code",
   "execution_count": 414,
   "metadata": {},
   "outputs": [
    {
     "data": {
      "text/plain": [
       "<matplotlib.axes._subplots.AxesSubplot at 0x214d7841828>"
      ]
     },
     "execution_count": 414,
     "metadata": {},
     "output_type": "execute_result"
    },
    {
     "data": {
      "image/png": "[encoded data removed]",
      "text/plain": [
       "<matplotlib.figure.Figure at 0x214d783df28>"
      ]
     },
     "metadata": {},
     "output_type": "display_data"
    }
   ],
   "source": [
    "classificacao=probabilidades.Classificacao.value_counts(True)*100\n",
    "classificacao.plot(kind='pie',autopct=\"%0.1f\",legend=False)"
   ]
  },
  {
   "cell_type": "markdown",
   "metadata": {
    "collapsed": true
   },
   "source": [
    "___\n",
    "## Concluindo\n",
    "\n",
    "Escreva aqui a sua conclusão.<br /> \n",
    "Faça um comparativo qualitativo sobre as medidas obtidas.<br />\n",
    "Explique como são tratadas as mensagens com dupla negação e sarcasmo.<br />\n",
    "Proponha um plano de expansão. Por que eles devem continuar financiando o seu projeto?<br />\n",
    "\n",
    "Opcionalmente: \n",
    "* Discorrer por que não posso alimentar minha base de Treinamento automaticamente usando o próprio classificador, aplicado a novos tweets.\n",
    "* Propor diferentes cenários de uso para o classificador Naive-Bayes. Cenários sem intersecção com este projeto.\n",
    "* Sugerir e explicar melhorias reais no classificador com indicações concretas de como implementar (não é preciso codificar, mas indicar como fazer e material de pesquisa sobre o assunto).\n"
   ]
  },
  {
   "cell_type": "code",
   "execution_count": null,
   "metadata": {
    "collapsed": true
   },
   "outputs": [],
   "source": []
  },
  {
   "cell_type": "code",
   "execution_count": null,
   "metadata": {
    "collapsed": true
   },
   "outputs": [],
   "source": []
  }
 ],
 "metadata": {
  "kernelspec": {
   "display_name": "Python 3",
   "language": "python",
   "name": "python3"
  },
  "language_info": {
   "codemirror_mode": {
    "name": "ipython",
    "version": 3
   },
   "file_extension": ".py",
   "mimetype": "text/x-python",
   "name": "python",
   "nbconvert_exporter": "python",
   "pygments_lexer": "ipython3",
   "version": "3.6.1"
  }
 },
 "nbformat": 4,
 "nbformat_minor": 1
}
